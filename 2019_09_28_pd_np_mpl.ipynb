{
  "nbformat": 4,
  "nbformat_minor": 0,
  "metadata": {
    "colab": {
      "name": "2019_09_28_pd_np_mpl.ipynb",
      "provenance": [],
      "collapsed_sections": [],
      "toc_visible": true,
      "include_colab_link": true
    },
    "kernelspec": {
      "name": "python3",
      "display_name": "Python 3"
    }
  },
  "cells": [
    {
      "cell_type": "markdown",
      "metadata": {
        "id": "view-in-github",
        "colab_type": "text"
      },
      "source": [
        "<a href=\"https://colab.research.google.com/github/kikosikera/2019_09_28_pd_np_mpl/blob/master/2019_09_28_pd_np_mpl.ipynb\" target=\"_parent\"><img src=\"https://colab.research.google.com/assets/colab-badge.svg\" alt=\"Open In Colab\"/></a>"
      ]
    },
    {
      "cell_type": "markdown",
      "metadata": {
        "id": "rJWad1EaA792",
        "colab_type": "text"
      },
      "source": [
        "## Developed Countries Healthcare System: KPI Analysis\n",
        "\n",
        "#### This KPI Analysis will compare the most developed countries on indicators related to their Healthcare system.\n",
        "\n",
        "\n",
        "\n",
        "- The study wants to point out which country performs better than others, whether there are trends in the time frame analyzed and find out hidden correlation between the indicators. \n",
        "- This analysis is important to understand which healthcare systems are more efficient than others and gives the elements to identify ways of improving them.\n",
        "- This study considers the countries: France, Germany, Italy, UK, Japan, USA, Canada, Switzerland, Denmark, Netherlands, Belgium, Finland, Sweden, Norway, China, in a time interval from 2000 to 2010. "
      ]
    },
    {
      "cell_type": "code",
      "metadata": {
        "id": "-GGHv_fKB2Wf",
        "colab_type": "code",
        "colab": {}
      },
      "source": [
        "# Source: https://www.kaggle.com/worldbank/world-development-indicators\n",
        "# Folder: 'world-development-indicators'"
      ],
      "execution_count": 0,
      "outputs": []
    },
    {
      "cell_type": "markdown",
      "metadata": {
        "id": "QIQkST67CoDD",
        "colab_type": "text"
      },
      "source": [
        "### Import Libraries and Datasets"
      ]
    },
    {
      "cell_type": "code",
      "metadata": {
        "id": "qVx5P7l-CsPx",
        "colab_type": "code",
        "colab": {}
      },
      "source": [
        "import pandas as pd\n",
        "import numpy as np\n",
        "import random\n",
        "import matplotlib.pyplot as plt"
      ],
      "execution_count": 0,
      "outputs": []
    },
    {
      "cell_type": "code",
      "metadata": {
        "id": "APM9LLCNCy2y",
        "colab_type": "code",
        "outputId": "a8d793a3-de3a-4bb5-b737-1e57e3cd648e",
        "colab": {
          "base_uri": "https://localhost:8080/",
          "height": 120
        }
      },
      "source": [
        "from google.colab import drive\n",
        "drive.mount('/content/drive')"
      ],
      "execution_count": 3,
      "outputs": [
        {
          "output_type": "stream",
          "text": [
            "Go to this URL in a browser: https://accounts.google.com/o/oauth2/auth?client_id=947318989803-6bn6qk8qdgf4n4g3pfee6491hc0brc4i.apps.googleusercontent.com&redirect_uri=urn%3Aietf%3Awg%3Aoauth%3A2.0%3Aoob&scope=email%20https%3A%2F%2Fwww.googleapis.com%2Fauth%2Fdocs.test%20https%3A%2F%2Fwww.googleapis.com%2Fauth%2Fdrive%20https%3A%2F%2Fwww.googleapis.com%2Fauth%2Fdrive.photos.readonly%20https%3A%2F%2Fwww.googleapis.com%2Fauth%2Fpeopleapi.readonly&response_type=code\n",
            "\n",
            "Enter your authorization code:\n",
            "··········\n",
            "Mounted at /content/drive\n"
          ],
          "name": "stdout"
        }
      ]
    },
    {
      "cell_type": "code",
      "metadata": {
        "id": "iBHvuLOVDLNd",
        "colab_type": "code",
        "colab": {}
      },
      "source": [
        "# indicators - Countries and Topics\n",
        "df_indicators = pd.read_csv(\"/content/drive/My Drive/Colab Notebooks/Data/PROJ/2019_09_28_pd_np_mpl/Data/Indicators.csv\", sep = ',', low_memory=False)"
      ],
      "execution_count": 0,
      "outputs": []
    },
    {
      "cell_type": "code",
      "metadata": {
        "id": "Faeqwl3zEYtK",
        "colab_type": "code",
        "outputId": "20ea7ba6-d20f-4676-afa3-a85eb92c3061",
        "colab": {
          "base_uri": "https://localhost:8080/",
          "height": 250
        }
      },
      "source": [
        "df_indicators.shape, list(df_indicators), df_indicators.notnull().sum()"
      ],
      "execution_count": 5,
      "outputs": [
        {
          "output_type": "execute_result",
          "data": {
            "text/plain": [
              "((5656458, 6),\n",
              " ['CountryName',\n",
              "  'CountryCode',\n",
              "  'IndicatorName',\n",
              "  'IndicatorCode',\n",
              "  'Year',\n",
              "  'Value'],\n",
              " CountryName      5656458\n",
              " CountryCode      5656458\n",
              " IndicatorName    5656458\n",
              " IndicatorCode    5656458\n",
              " Year             5656458\n",
              " Value            5656458\n",
              " dtype: int64)"
            ]
          },
          "metadata": {
            "tags": []
          },
          "execution_count": 5
        }
      ]
    },
    {
      "cell_type": "code",
      "metadata": {
        "id": "FIz5gi6cFDNf",
        "colab_type": "code",
        "outputId": "7dced7a2-4eab-4a88-dd92-ead86d610fd7",
        "colab": {
          "base_uri": "https://localhost:8080/",
          "height": 197
        }
      },
      "source": [
        "df_indicators.head(5)"
      ],
      "execution_count": 6,
      "outputs": [
        {
          "output_type": "execute_result",
          "data": {
            "text/html": [
              "<div>\n",
              "<style scoped>\n",
              "    .dataframe tbody tr th:only-of-type {\n",
              "        vertical-align: middle;\n",
              "    }\n",
              "\n",
              "    .dataframe tbody tr th {\n",
              "        vertical-align: top;\n",
              "    }\n",
              "\n",
              "    .dataframe thead th {\n",
              "        text-align: right;\n",
              "    }\n",
              "</style>\n",
              "<table border=\"1\" class=\"dataframe\">\n",
              "  <thead>\n",
              "    <tr style=\"text-align: right;\">\n",
              "      <th></th>\n",
              "      <th>CountryName</th>\n",
              "      <th>CountryCode</th>\n",
              "      <th>IndicatorName</th>\n",
              "      <th>IndicatorCode</th>\n",
              "      <th>Year</th>\n",
              "      <th>Value</th>\n",
              "    </tr>\n",
              "  </thead>\n",
              "  <tbody>\n",
              "    <tr>\n",
              "      <th>0</th>\n",
              "      <td>Arab World</td>\n",
              "      <td>ARB</td>\n",
              "      <td>Adolescent fertility rate (births per 1,000 wo...</td>\n",
              "      <td>SP.ADO.TFRT</td>\n",
              "      <td>1960</td>\n",
              "      <td>1.335609e+02</td>\n",
              "    </tr>\n",
              "    <tr>\n",
              "      <th>1</th>\n",
              "      <td>Arab World</td>\n",
              "      <td>ARB</td>\n",
              "      <td>Age dependency ratio (% of working-age populat...</td>\n",
              "      <td>SP.POP.DPND</td>\n",
              "      <td>1960</td>\n",
              "      <td>8.779760e+01</td>\n",
              "    </tr>\n",
              "    <tr>\n",
              "      <th>2</th>\n",
              "      <td>Arab World</td>\n",
              "      <td>ARB</td>\n",
              "      <td>Age dependency ratio, old (% of working-age po...</td>\n",
              "      <td>SP.POP.DPND.OL</td>\n",
              "      <td>1960</td>\n",
              "      <td>6.634579e+00</td>\n",
              "    </tr>\n",
              "    <tr>\n",
              "      <th>3</th>\n",
              "      <td>Arab World</td>\n",
              "      <td>ARB</td>\n",
              "      <td>Age dependency ratio, young (% of working-age ...</td>\n",
              "      <td>SP.POP.DPND.YG</td>\n",
              "      <td>1960</td>\n",
              "      <td>8.102333e+01</td>\n",
              "    </tr>\n",
              "    <tr>\n",
              "      <th>4</th>\n",
              "      <td>Arab World</td>\n",
              "      <td>ARB</td>\n",
              "      <td>Arms exports (SIPRI trend indicator values)</td>\n",
              "      <td>MS.MIL.XPRT.KD</td>\n",
              "      <td>1960</td>\n",
              "      <td>3.000000e+06</td>\n",
              "    </tr>\n",
              "  </tbody>\n",
              "</table>\n",
              "</div>"
            ],
            "text/plain": [
              "  CountryName CountryCode  ...  Year         Value\n",
              "0  Arab World         ARB  ...  1960  1.335609e+02\n",
              "1  Arab World         ARB  ...  1960  8.779760e+01\n",
              "2  Arab World         ARB  ...  1960  6.634579e+00\n",
              "3  Arab World         ARB  ...  1960  8.102333e+01\n",
              "4  Arab World         ARB  ...  1960  3.000000e+06\n",
              "\n",
              "[5 rows x 6 columns]"
            ]
          },
          "metadata": {
            "tags": []
          },
          "execution_count": 6
        }
      ]
    },
    {
      "cell_type": "code",
      "metadata": {
        "id": "azhpSraHFVZA",
        "colab_type": "code",
        "outputId": "93618981-5279-4a37-b76f-96ae6929b87d",
        "colab": {
          "base_uri": "https://localhost:8080/",
          "height": 50
        }
      },
      "source": [
        "# On indicators: list total of unique countries and indicators names\n",
        "countries = df_indicators[\"CountryCode\"].unique().tolist()\n",
        "indicators = df_indicators[\"IndicatorName\"].unique().tolist()\n",
        "print('countries size: %d' % len(countries))\n",
        "print('indicators size: %d' % len(indicators))"
      ],
      "execution_count": 7,
      "outputs": [
        {
          "output_type": "stream",
          "text": [
            "countries size: 247\n",
            "indicators size: 1344\n"
          ],
          "name": "stdout"
        }
      ]
    },
    {
      "cell_type": "code",
      "metadata": {
        "id": "2i_n6EArKSnE",
        "colab_type": "code",
        "outputId": "e7a431a3-df85-49f4-9dca-7a3a35427eac",
        "colab": {
          "base_uri": "https://localhost:8080/",
          "height": 1000
        }
      },
      "source": [
        "df_indicators[\"IndicatorName\"].unique().tolist()"
      ],
      "execution_count": 8,
      "outputs": [
        {
          "output_type": "execute_result",
          "data": {
            "text/plain": [
              "['Adolescent fertility rate (births per 1,000 women ages 15-19)',\n",
              " 'Age dependency ratio (% of working-age population)',\n",
              " 'Age dependency ratio, old (% of working-age population)',\n",
              " 'Age dependency ratio, young (% of working-age population)',\n",
              " 'Arms exports (SIPRI trend indicator values)',\n",
              " 'Arms imports (SIPRI trend indicator values)',\n",
              " 'Birth rate, crude (per 1,000 people)',\n",
              " 'CO2 emissions (kt)',\n",
              " 'CO2 emissions (metric tons per capita)',\n",
              " 'CO2 emissions from gaseous fuel consumption (% of total)',\n",
              " 'CO2 emissions from liquid fuel consumption (% of total)',\n",
              " 'CO2 emissions from liquid fuel consumption (kt)',\n",
              " 'CO2 emissions from solid fuel consumption (% of total)',\n",
              " 'Death rate, crude (per 1,000 people)',\n",
              " 'Fertility rate, total (births per woman)',\n",
              " 'Fixed telephone subscriptions',\n",
              " 'Fixed telephone subscriptions (per 100 people)',\n",
              " 'Hospital beds (per 1,000 people)',\n",
              " 'International migrant stock (% of population)',\n",
              " 'International migrant stock, total',\n",
              " 'Life expectancy at birth, female (years)',\n",
              " 'Life expectancy at birth, male (years)',\n",
              " 'Life expectancy at birth, total (years)',\n",
              " 'Merchandise exports (current US$)',\n",
              " 'Merchandise exports by the reporting economy (current US$)',\n",
              " 'Merchandise exports by the reporting economy, residual (% of total merchandise exports)',\n",
              " 'Merchandise exports to developing economies in East Asia & Pacific (% of total merchandise exports)',\n",
              " 'Merchandise exports to developing economies in Latin America & the Caribbean (% of total merchandise exports)',\n",
              " 'Merchandise exports to developing economies in Middle East & North Africa (% of total merchandise exports)',\n",
              " 'Merchandise exports to developing economies in South Asia (% of total merchandise exports)',\n",
              " 'Merchandise exports to developing economies in Sub-Saharan Africa (% of total merchandise exports)',\n",
              " 'Merchandise exports to developing economies outside region (% of total merchandise exports)',\n",
              " 'Merchandise exports to developing economies within region (% of total merchandise exports)',\n",
              " 'Merchandise exports to economies in the Arab World (% of total merchandise exports)',\n",
              " 'Merchandise exports to high-income economies (% of total merchandise exports)',\n",
              " 'Merchandise imports (current US$)',\n",
              " 'Merchandise imports by the reporting economy (current US$)',\n",
              " 'Merchandise imports by the reporting economy, residual (% of total merchandise imports)',\n",
              " 'Merchandise imports from developing economies in East Asia & Pacific (% of total merchandise imports)',\n",
              " 'Merchandise imports from developing economies in Latin America & the Caribbean (% of total merchandise imports)',\n",
              " 'Merchandise imports from developing economies in Middle East & North Africa (% of total merchandise imports)',\n",
              " 'Merchandise imports from developing economies in South Asia (% of total merchandise imports)',\n",
              " 'Merchandise imports from developing economies in Sub-Saharan Africa (% of total merchandise imports)',\n",
              " 'Merchandise imports from developing economies outside region (% of total merchandise imports)',\n",
              " 'Merchandise imports from developing economies within region (% of total merchandise imports)',\n",
              " 'Merchandise imports from economies in the Arab World (% of total merchandise imports)',\n",
              " 'Merchandise imports from high-income economies (% of total merchandise imports)',\n",
              " 'Merchandise trade (% of GDP)',\n",
              " 'Mobile cellular subscriptions',\n",
              " 'Mobile cellular subscriptions (per 100 people)',\n",
              " 'Mortality rate, adult, female (per 1,000 female adults)',\n",
              " 'Mortality rate, adult, male (per 1,000 male adults)',\n",
              " 'Mortality rate, infant (per 1,000 live births)',\n",
              " 'Mortality rate, under-5 (per 1,000)',\n",
              " 'Net bilateral aid flows from DAC donors, European Union institutions (current US$)',\n",
              " 'Net bilateral aid flows from DAC donors, France (current US$)',\n",
              " 'Net bilateral aid flows from DAC donors, Germany (current US$)',\n",
              " 'Net bilateral aid flows from DAC donors, Italy (current US$)',\n",
              " 'Net bilateral aid flows from DAC donors, Japan (current US$)',\n",
              " 'Net bilateral aid flows from DAC donors, Total (current US$)',\n",
              " 'Net bilateral aid flows from DAC donors, United Kingdom (current US$)',\n",
              " 'Net bilateral aid flows from DAC donors, United States (current US$)',\n",
              " 'Net ODA received per capita (current US$)',\n",
              " 'Net official development assistance and official aid received (constant 2012 US$)',\n",
              " 'Net official development assistance and official aid received (current US$)',\n",
              " 'Net official development assistance received (constant 2012 US$)',\n",
              " 'Net official development assistance received (current US$)',\n",
              " 'Population ages 65 and above (% of total)',\n",
              " 'Population in the largest city (% of urban population)',\n",
              " 'Population in urban agglomerations of more than 1 million (% of total population)',\n",
              " 'Population, ages 0-14 (% of total)',\n",
              " 'Population, ages 15-64 (% of total)',\n",
              " 'Population, female (% of total)',\n",
              " 'Population, total',\n",
              " 'Rural population',\n",
              " 'Rural population (% of total population)',\n",
              " 'Survival to age 65, female (% of cohort)',\n",
              " 'Survival to age 65, male (% of cohort)',\n",
              " 'Urban population',\n",
              " 'Urban population (% of total)',\n",
              " 'Exports of goods and services (current US$)',\n",
              " 'GDP at market prices (current US$)',\n",
              " 'GDP per capita (current US$)',\n",
              " 'GNI (current US$)',\n",
              " 'Gross capital formation (current US$)',\n",
              " 'Net bilateral aid flows from DAC donors, Canada (current US$)',\n",
              " 'Net bilateral aid flows from DAC donors, Netherlands (current US$)',\n",
              " 'Net ODA received (% of GNI)',\n",
              " 'Net ODA received (% of gross capital formation)',\n",
              " 'Alternative and nuclear energy (% of total energy use)',\n",
              " 'CO2 emissions from electricity and heat production, total (% of total fuel combustion)',\n",
              " 'CO2 emissions from manufacturing industries and construction (% of total fuel combustion)',\n",
              " 'CO2 emissions from other sectors, excluding residential buildings and commercial and public services (% of total fuel combustion)',\n",
              " 'CO2 emissions from residential buildings and commercial and public services (% of total fuel combustion)',\n",
              " 'CO2 emissions from solid fuel consumption (kt)',\n",
              " 'CO2 emissions from transport (% of total fuel combustion)',\n",
              " 'CO2 intensity (kg per kg of oil equivalent energy use)',\n",
              " 'Combustible renewables and waste (% of total energy)',\n",
              " 'Electric power transmission and distribution losses (% of output)',\n",
              " 'Electricity production from renewable sources, excluding hydroelectric (kWh)',\n",
              " 'Energy imports, net (% of energy use)',\n",
              " 'Fossil fuel energy consumption (% of total)',\n",
              " 'Agriculture, value added (constant 2005 US$)',\n",
              " 'CO2 emissions (kg per 2005 US$ of GDP)',\n",
              " 'Exports of goods and services (% of GDP)',\n",
              " 'External balance on goods and services (% of GDP)',\n",
              " 'GDP at market prices (constant 2005 US$)',\n",
              " 'GDP per capita (constant 2005 US$)',\n",
              " 'General government final consumption expenditure (% of GDP)',\n",
              " 'General government final consumption expenditure (constant 2005 US$)',\n",
              " 'General government final consumption expenditure (current US$)',\n",
              " 'GNI (constant 2005 US$)',\n",
              " 'GNI per capita (constant 2005 US$)',\n",
              " 'Gross domestic income (constant 2005 US$)',\n",
              " 'Gross fixed capital formation (% of GDP)',\n",
              " 'Gross fixed capital formation (current US$)',\n",
              " 'Gross national expenditure (constant 2005 US$)',\n",
              " 'Gross national expenditure (current US$)',\n",
              " 'Imports of goods and services (% of GDP)',\n",
              " 'Imports of goods and services (current US$)',\n",
              " 'Net bilateral aid flows from DAC donors, Austria (current US$)',\n",
              " 'Net bilateral aid flows from DAC donors, Belgium (current US$)',\n",
              " 'Net bilateral aid flows from DAC donors, Denmark (current US$)',\n",
              " 'Net bilateral aid flows from DAC donors, Korea, Rep. (current US$)',\n",
              " 'Net bilateral aid flows from DAC donors, Norway (current US$)',\n",
              " 'Net bilateral aid flows from DAC donors, Portugal (current US$)',\n",
              " 'Net bilateral aid flows from DAC donors, Sweden (current US$)',\n",
              " 'Net bilateral aid flows from DAC donors, Switzerland (current US$)',\n",
              " 'Portfolio equity, net inflows (BoP, current US$)',\n",
              " 'Trade (% of GDP)',\n",
              " 'Agriculture, value added (% of GDP)',\n",
              " 'Agriculture, value added (current US$)',\n",
              " 'Final consumption expenditure, etc. (current US$)',\n",
              " 'Gross capital formation (% of GDP)',\n",
              " 'Gross domestic savings (% of GDP)',\n",
              " 'Gross domestic savings (current US$)',\n",
              " 'Household final consumption expenditure (current US$)',\n",
              " 'Household final consumption expenditure, etc. (% of GDP)',\n",
              " 'Household final consumption expenditure, etc. (current US$)',\n",
              " 'Industry, value added (% of GDP)',\n",
              " 'Industry, value added (constant 2005 US$)',\n",
              " 'Industry, value added (current US$)',\n",
              " 'Manufacturing, value added (% of GDP)',\n",
              " 'Manufacturing, value added (current US$)',\n",
              " 'Services, etc., value added (% of GDP)',\n",
              " 'Services, etc., value added (constant 2005 US$)',\n",
              " 'Services, etc., value added (current US$)',\n",
              " 'Electric power consumption (kWh per capita)',\n",
              " 'Electricity production from coal sources (% of total)',\n",
              " 'Electricity production from hydroelectric sources (% of total)',\n",
              " 'Electricity production from natural gas sources (% of total)',\n",
              " 'Electricity production from nuclear sources (% of total)',\n",
              " 'Electricity production from oil sources (% of total)',\n",
              " 'Electricity production from oil, gas and coal sources (% of total)',\n",
              " 'Electricity production from renewable sources, excluding hydroelectric (% of total)',\n",
              " 'Energy use (kg of oil equivalent per capita)',\n",
              " 'Exports of goods and services (constant 2005 US$)',\n",
              " 'Imports of goods and services (constant 2005 US$)',\n",
              " 'Trademark applications, direct nonresident',\n",
              " 'Trademark applications, direct resident',\n",
              " 'Trademark applications, total',\n",
              " 'Number of infant deaths',\n",
              " 'Number of under-five deaths',\n",
              " 'CO2 emissions from gaseous fuel consumption (kt)',\n",
              " 'Gross fixed capital formation (constant 2005 US$)',\n",
              " 'Final consumption expenditure (constant 2005 US$)',\n",
              " 'Final consumption expenditure, etc. (constant 2005 US$)',\n",
              " 'Gross capital formation (constant 2005 US$)',\n",
              " 'Gross value added at factor cost (current US$)',\n",
              " 'Household final consumption expenditure (constant 2005 US$)',\n",
              " 'Household final consumption expenditure per capita (constant 2005 US$)',\n",
              " 'Household final consumption expenditure, etc. (constant 2005 US$)',\n",
              " 'Manufacturing, value added (constant 2005 US$)',\n",
              " 'Gross fixed capital formation, private sector (% of GDP)',\n",
              " 'Patent applications, nonresidents',\n",
              " 'Patent applications, residents',\n",
              " 'Gross value added at factor cost (constant 2005 US$)',\n",
              " 'DEC alternative conversion factor (LCU per US$)',\n",
              " 'Exports of goods and services (current LCU)',\n",
              " 'External balance on goods and services (current LCU)',\n",
              " 'External balance on goods and services (current US$)',\n",
              " 'Final consumption expenditure (current LCU)',\n",
              " 'Final consumption expenditure (current US$)',\n",
              " 'Final consumption expenditure, etc. (% of GDP)',\n",
              " 'Final consumption expenditure, etc. (current LCU)',\n",
              " 'GDP (current LCU)',\n",
              " 'GDP per capita (current LCU)',\n",
              " 'GNI (current LCU)',\n",
              " 'GNI per capita (current LCU)',\n",
              " 'Gross capital formation (current LCU)',\n",
              " 'Gross domestic savings (current LCU)',\n",
              " 'Gross national expenditure (% of GDP)',\n",
              " 'Gross national expenditure (current LCU)',\n",
              " 'Gross value added at factor cost (current LCU)',\n",
              " 'Household final consumption expenditure (current LCU)',\n",
              " 'Imports of goods and services (current LCU)',\n",
              " 'Net income from abroad (current LCU)',\n",
              " 'Net income from abroad (current US$)',\n",
              " 'Net taxes on products (current LCU)',\n",
              " 'Net taxes on products (current US$)',\n",
              " 'Official exchange rate (LCU per US$, period average)',\n",
              " 'Physicians (per 1,000 people)',\n",
              " 'Population growth (annual %)',\n",
              " 'Population in largest city',\n",
              " 'Population in urban agglomerations of more than 1 million',\n",
              " 'Rural population growth (annual %)',\n",
              " 'Total reserves (includes gold, current US$)',\n",
              " 'Total reserves minus gold (current US$)',\n",
              " 'Urban population growth (annual %)',\n",
              " 'Agriculture, value added (constant LCU)',\n",
              " 'Agriculture, value added (current LCU)',\n",
              " 'Discrepancy in expenditure estimate of GDP (constant LCU)',\n",
              " 'Discrepancy in expenditure estimate of GDP (current LCU)',\n",
              " 'Exports as a capacity to import (constant LCU)',\n",
              " 'Exports of goods and services (constant LCU)',\n",
              " 'External balance on goods and services (constant LCU)',\n",
              " 'Final consumption expenditure (constant LCU)',\n",
              " 'Final consumption expenditure, etc. (constant LCU)',\n",
              " 'GDP (constant LCU)',\n",
              " 'GDP deflator (base year varies by country)',\n",
              " 'GDP per capita (constant LCU)',\n",
              " 'General government final consumption expenditure (constant LCU)',\n",
              " 'General government final consumption expenditure (current LCU)',\n",
              " 'GNI (constant LCU)',\n",
              " 'GNI per capita (constant LCU)',\n",
              " 'Gross capital formation (constant LCU)',\n",
              " 'Gross domestic income (constant LCU)',\n",
              " 'Gross domestic savings (constant LCU)',\n",
              " 'Gross national expenditure (constant LCU)',\n",
              " 'Gross national expenditure deflator (base year varies by country)',\n",
              " 'Household final consumption expenditure (constant LCU)',\n",
              " 'Household final consumption expenditure, etc. (constant LCU)',\n",
              " 'Household final consumption expenditure, etc. (current LCU)',\n",
              " 'Imports of goods and services (constant LCU)',\n",
              " 'Industry, value added (constant LCU)',\n",
              " 'Industry, value added (current LCU)',\n",
              " 'Manufacturing, value added (current LCU)',\n",
              " 'Terms of trade adjustment (constant LCU)',\n",
              " 'Changes in inventories (constant LCU)',\n",
              " 'Changes in inventories (current LCU)',\n",
              " 'Gross fixed capital formation (constant LCU)',\n",
              " 'Gross fixed capital formation (current LCU)',\n",
              " 'Adjusted savings: gross savings (% of GNI)',\n",
              " 'Changes in inventories (current US$)',\n",
              " 'Consumer price index (2010 = 100)',\n",
              " 'Gross savings (% of GDP)',\n",
              " 'Gross savings (% of GNI)',\n",
              " 'Gross savings (current LCU)',\n",
              " 'Gross savings (current US$)',\n",
              " 'Net current transfers from abroad (current LCU)',\n",
              " 'Net current transfers from abroad (current US$)',\n",
              " 'Net secondary income (BoP, current US$)',\n",
              " 'Wholesale price index (2010 = 100)',\n",
              " 'Net current transfers from abroad (constant LCU)',\n",
              " 'Gross value added at factor cost (constant LCU)',\n",
              " 'Manufacturing, value added (constant LCU)',\n",
              " 'Services, etc., value added (constant LCU)',\n",
              " 'Services, etc., value added (current LCU)',\n",
              " 'Net income from abroad (constant LCU)',\n",
              " 'Deposit interest rate (%)',\n",
              " 'Internet users (per 100 people)',\n",
              " 'Net taxes on products (constant LCU)',\n",
              " 'Lending interest rate (%)',\n",
              " 'Risk premium on lending (lending rate minus treasury bill rate, %)',\n",
              " 'Gross fixed capital formation, private sector (current LCU)',\n",
              " 'Interest rate spread (lending rate minus deposit rate, %)',\n",
              " 'Agricultural land (% of land area)',\n",
              " 'Agricultural land (sq. km)',\n",
              " 'Agricultural machinery, tractors',\n",
              " 'Agricultural machinery, tractors per 100 sq. km of arable land',\n",
              " 'Arable land (% of land area)',\n",
              " 'Arable land (hectares per person)',\n",
              " 'Cereal production (metric tons)',\n",
              " 'Cereal yield (kg per hectare)',\n",
              " 'Crop production index (2004-2006 = 100)',\n",
              " 'Food production index (2004-2006 = 100)',\n",
              " 'Land area (sq. km)',\n",
              " 'Land under cereal production (hectares)',\n",
              " 'Livestock production index (2004-2006 = 100)',\n",
              " 'Permanent cropland (% of land area)',\n",
              " 'Population density (people per sq. km of land area)',\n",
              " 'Surface area (sq. km)',\n",
              " 'Agriculture, value added (annual % growth)',\n",
              " 'GDP growth (annual %)',\n",
              " 'GDP per capita growth (annual %)',\n",
              " 'General government final consumption expenditure (annual % growth)',\n",
              " 'GNI growth (annual %)',\n",
              " 'GNI per capita growth (annual %)',\n",
              " 'Industry, value added (annual % growth)',\n",
              " 'Services, etc., value added (annual % growth)',\n",
              " 'Exports of goods and services (annual % growth)',\n",
              " 'Imports of goods and services (annual % growth)',\n",
              " 'Inflation, consumer prices (annual %)',\n",
              " 'Inflation, GDP deflator (annual %)',\n",
              " 'Gross fixed capital formation (annual % growth)',\n",
              " 'Final consumption expenditure, etc. (annual % growth)',\n",
              " 'Gross capital formation (annual % growth)',\n",
              " 'Household final consumption expenditure (annual % growth)',\n",
              " 'Household final consumption expenditure per capita growth (annual %)',\n",
              " 'Household final consumption expenditure, etc. (annual % growth)',\n",
              " 'Manufacturing, value added (annual % growth)',\n",
              " 'Arable land (hectares)',\n",
              " 'Real interest rate (%)',\n",
              " 'Maternal mortality ratio (national estimate, per 100,000 live births)',\n",
              " 'Net migration',\n",
              " 'Renewable internal freshwater resources per capita (cubic meters)',\n",
              " 'Renewable internal freshwater resources, total (billion cubic meters)',\n",
              " 'GNI per capita, Atlas method (current US$)',\n",
              " 'GNI, Atlas method (current US$)',\n",
              " 'Agricultural raw materials exports (% of merchandise exports)',\n",
              " 'Agricultural raw materials imports (% of merchandise imports)',\n",
              " 'Food exports (% of merchandise exports)',\n",
              " 'Food imports (% of merchandise imports)',\n",
              " 'Fuel exports (% of merchandise exports)',\n",
              " 'Fuel imports (% of merchandise imports)',\n",
              " 'Manufactures exports (% of merchandise exports)',\n",
              " 'Manufactures imports (% of merchandise imports)',\n",
              " 'Ores and metals exports (% of merchandise exports)',\n",
              " 'Ores and metals imports (% of merchandise imports)',\n",
              " 'Average precipitation in depth (mm per year)',\n",
              " 'Annual freshwater withdrawals, total (% of internal resources)',\n",
              " 'Annual freshwater withdrawals, total (billion cubic meters)',\n",
              " 'Chemicals (% of value added in manufacturing)',\n",
              " 'Food, beverages and tobacco (% of value added in manufacturing)',\n",
              " 'Machinery and transport equipment (% of value added in manufacturing)',\n",
              " 'Other manufacturing (% of value added in manufacturing)',\n",
              " 'Textiles and clothing (% of value added in manufacturing)',\n",
              " 'Net bilateral aid flows from DAC donors, Australia (current US$)',\n",
              " 'Prevalence of stunting, height for age (% of children under 5)',\n",
              " 'Prevalence of underweight, weight for age (% of children under 5)',\n",
              " 'Prevalence of wasting, weight for height (% of children under 5)',\n",
              " 'Water productivity, total (constant 2005 US$ GDP per cubic meter of total freshwater withdrawal)',\n",
              " 'Annual freshwater withdrawals, agriculture (% of total freshwater withdrawal)',\n",
              " 'Annual freshwater withdrawals, domestic (% of total freshwater withdrawal)',\n",
              " 'Annual freshwater withdrawals, industry (% of total freshwater withdrawal)',\n",
              " 'Net official flows from UN agencies, UNDP (current US$)',\n",
              " 'Contraceptive prevalence (% of women ages 15-49)',\n",
              " 'Net official flows from UN agencies, UNHCR (current US$)',\n",
              " 'Net official flows from UN agencies, UNRWA (current US$)',\n",
              " 'Net official flows from UN agencies, UNTA (current US$)',\n",
              " 'Net official flows from UN agencies, WFP (current US$)',\n",
              " 'Prevalence of overweight, weight for height (% of children under 5)',\n",
              " 'Adjusted net enrolment rate, primary, both sexes (%)',\n",
              " 'Adjusted net enrolment rate, primary, female (%)',\n",
              " 'Adjusted net enrolment rate, primary, male (%)',\n",
              " 'Adjusted savings: carbon dioxide damage (% of GNI)',\n",
              " 'Adjusted savings: consumption of fixed capital (% of GNI)',\n",
              " 'Adjusted savings: education expenditure (% of GNI)',\n",
              " 'Adjusted savings: energy depletion (% of GNI)',\n",
              " 'Adjusted savings: mineral depletion (% of GNI)',\n",
              " 'Adjusted savings: natural resources depletion (% of GNI)',\n",
              " 'Adjusted savings: net forest depletion (% of GNI)',\n",
              " 'Air transport, freight (million ton-km)',\n",
              " 'Air transport, passengers carried',\n",
              " 'Air transport, registered carrier departures worldwide',\n",
              " 'Coal rents (% of GDP)',\n",
              " 'Enrolment in primary education, both sexes (number)',\n",
              " 'Enrolment in secondary education, both sexes (number)',\n",
              " 'Enrolment in secondary general, both sexes (number)',\n",
              " 'Enrolment in secondary vocational, both sexes (number)',\n",
              " 'Foreign direct investment, net inflows (% of GDP)',\n",
              " 'Foreign direct investment, net inflows (BoP, current US$)',\n",
              " 'Forest rents (% of GDP)',\n",
              " 'Gross enrolment ratio, pre-primary, both sexes (%)',\n",
              " 'Gross enrolment ratio, pre-primary, female (%)',\n",
              " 'Gross enrolment ratio, pre-primary, male (%)',\n",
              " 'Gross enrolment ratio, primary and secondary, gender parity index (GPI)',\n",
              " 'Gross enrolment ratio, primary, both sexes (%)',\n",
              " 'Gross enrolment ratio, primary, female (%)',\n",
              " 'Gross enrolment ratio, primary, gender parity index (GPI)',\n",
              " 'Gross enrolment ratio, primary, male (%)',\n",
              " 'Gross enrolment ratio, secondary, both sexes (%)',\n",
              " 'Gross enrolment ratio, secondary, female (%)',\n",
              " 'Gross enrolment ratio, secondary, gender parity index (GPI)',\n",
              " 'Gross enrolment ratio, secondary, male (%)',\n",
              " 'Gross enrolment ratio, tertiary, both sexes (%)',\n",
              " 'Gross enrolment ratio, tertiary, female (%)',\n",
              " 'Gross enrolment ratio, tertiary, gender parity index (GPI)',\n",
              " 'Gross enrolment ratio, tertiary, male (%)',\n",
              " 'Lower secondary completion rate, both sexes (%)',\n",
              " 'Mineral rents (% of GDP)',\n",
              " 'Natural gas rents (% of GDP)',\n",
              " 'Net enrolment rate, primary, both sexes (%)',\n",
              " 'Net enrolment rate, primary, female (%)',\n",
              " 'Net enrolment rate, primary, male (%)',\n",
              " 'Net enrolment rate, secondary, both sexes (%)',\n",
              " 'Net enrolment rate, secondary, female (%)',\n",
              " 'Net enrolment rate, secondary, male (%)',\n",
              " 'Net official flows from UN agencies, UNICEF (current US$)',\n",
              " 'Oil rents (% of GDP)',\n",
              " 'Out-of-school children of primary school age, both sexes (number)',\n",
              " 'Out-of-school children of primary school age, female (number)',\n",
              " 'Out-of-school children of primary school age, male (number)',\n",
              " 'Percentage of enrolment in primary education in private institutions (%)',\n",
              " 'Percentage of repeaters in primary education, all grades, both sexes (%)',\n",
              " 'Percentage of repeaters in primary education, all grades, female (%)',\n",
              " 'Percentage of repeaters in primary education, all grades, male (%)',\n",
              " 'Percentage of students in primary education who are female (%)',\n",
              " 'Percentage of students in secondary education who are female (%)',\n",
              " 'Percentage of students in secondary general education who are female (%)',\n",
              " 'Percentage of students in secondary vocational education who are female (%)',\n",
              " 'Percentage of teachers in primary education who are female (%)',\n",
              " 'Percentage of teachers in secondary education who are female (%)',\n",
              " 'Personal remittances, received (current US$)',\n",
              " 'Primary completion rate, both sexes (%)',\n",
              " 'Primary completion rate, female (%)',\n",
              " 'Primary completion rate, male (%)',\n",
              " 'Public and publicly guaranteed debt service (% of GNI)',\n",
              " 'Pupil-teacher ratio in primary education (headcount basis)',\n",
              " 'Pupil-teacher ratio in secondary education (headcount basis)',\n",
              " 'Survival rate to the last grade of primary education, both sexes (%)',\n",
              " 'Teachers in primary education, both sexes (number)',\n",
              " 'Teachers in secondary education, both sexes (number)',\n",
              " 'Teachers in secondary education, female (number)',\n",
              " 'Total debt service (% of GNI)',\n",
              " 'Total natural resources rents (% of GDP)',\n",
              " 'Adjusted net national income (current US$)',\n",
              " 'Adjusted net national income per capita (current US$)',\n",
              " 'Lower secondary completion rate, female (%)',\n",
              " 'Lower secondary completion rate, male (%)',\n",
              " 'Net financial flows, IBRD (NFL, current US$)',\n",
              " 'Net financial flows, IDA (NFL, current US$)',\n",
              " 'Personal remittances, paid (current US$)',\n",
              " 'Gross intake ratio to Grade 1 of primary education, both sexes (%)',\n",
              " 'Primary to secondary general education transition rate, both sexes (%)',\n",
              " 'Adjusted net national income (constant 2005 US$)',\n",
              " 'Adjusted net national income per capita (constant 2005 US$)',\n",
              " 'Net bilateral aid flows from DAC donors, Finland (current US$)',\n",
              " 'Net bilateral aid flows from DAC donors, New Zealand (current US$)',\n",
              " 'Percentage of teachers in tertiary education who are female (%)',\n",
              " 'Average grace period on new external debt commitments (years)',\n",
              " 'Average grace period on new external debt commitments, official (years)',\n",
              " 'Average grace period on new external debt commitments, private (years)',\n",
              " 'Average grant element on new external debt commitments (%)',\n",
              " 'Average grant element on new external debt commitments, official (%)',\n",
              " 'Average grant element on new external debt commitments, private (%)',\n",
              " 'Average interest on new external debt commitments (%)',\n",
              " 'Average interest on new external debt commitments, official (%)',\n",
              " 'Average interest on new external debt commitments, private (%)',\n",
              " 'Average maturity on new external debt commitments (years)',\n",
              " 'Average maturity on new external debt commitments, official (years)',\n",
              " 'Average maturity on new external debt commitments, private (years)',\n",
              " 'Commercial banks and other lending (PPG + PNG) (NFL, current US$)',\n",
              " 'Commitments, IBRD (COM, current US$)',\n",
              " 'Commitments, IDA (COM, current US$)',\n",
              " 'Commitments, official creditors (COM, current US$)',\n",
              " 'Commitments, private creditors (COM, current US$)',\n",
              " 'Commitments, public and publicly guaranteed (COM, current US$)',\n",
              " 'Concessional debt (% of total external debt)',\n",
              " 'Currency composition of PPG debt, all other currencies (%)',\n",
              " 'Currency composition of PPG debt, Deutsche mark (%)',\n",
              " 'Currency composition of PPG debt, French franc (%)',\n",
              " 'Currency composition of PPG debt, Japanese yen (%)',\n",
              " 'Currency composition of PPG debt, Multiple currencies (%)',\n",
              " 'Currency composition of PPG debt, Pound sterling (%)',\n",
              " 'Currency composition of PPG debt, SDR (%)',\n",
              " 'Currency composition of PPG debt, Swiss franc (%)',\n",
              " 'Currency composition of PPG debt, U.S. dollars (%)',\n",
              " 'Debt forgiveness grants (current US$)',\n",
              " 'Debt service on external debt, long-term (TDS, current US$)',\n",
              " 'Debt service on external debt, private nonguaranteed (PNG) (TDS, current US$)',\n",
              " 'Debt service on external debt, public and publicly guaranteed (PPG) (TDS, current US$)',\n",
              " 'Debt service on external debt, total (TDS, current US$)',\n",
              " 'Disbursements on external debt, long-term (DIS, current US$)',\n",
              " 'Disbursements on external debt, long-term + IMF (DIS, current US$)',\n",
              " 'Disbursements on external debt, private nonguaranteed (PNG) (DIS, current US$)',\n",
              " 'Disbursements on external debt, public and publicly guaranteed (PPG) (DIS, current US$)',\n",
              " 'EBRD, private nonguaranteed (NFL, current US$)',\n",
              " 'External debt stocks (% of GNI)',\n",
              " 'External debt stocks, concessional (DOD, current US$)',\n",
              " 'External debt stocks, long-term (DOD, current US$)',\n",
              " 'External debt stocks, long-term private sector (DOD, current US$)',\n",
              " 'External debt stocks, long-term public sector (DOD, current US$)',\n",
              " 'External debt stocks, private nonguaranteed (PNG) (DOD, current US$)',\n",
              " 'External debt stocks, public and publicly guaranteed (PPG) (DOD, current US$)',\n",
              " 'External debt stocks, short-term (DOD, current US$)',\n",
              " 'External debt stocks, total (DOD, current US$)',\n",
              " 'External debt stocks, variable rate (DOD, current US$)',\n",
              " 'IBRD loans and IDA credits (DOD, current US$)',\n",
              " 'IDA grants (current US$)',\n",
              " 'IFC, private nonguaranteed (NFL, current US$)',\n",
              " 'IMF charges (INT, current US$)',\n",
              " 'IMF purchases (DIS, current US$)',\n",
              " 'IMF repurchases (AMT, current US$)',\n",
              " 'IMF repurchases and charges (TDS, current US$)',\n",
              " 'Interest arrears, long-term DOD (US$)',\n",
              " 'Interest arrears, official creditors (current US$)',\n",
              " 'Interest arrears, private creditors (current US$)',\n",
              " 'Interest payments on external debt (% of GNI)',\n",
              " 'Interest payments on external debt, long-term (INT, current US$)',\n",
              " 'Interest payments on external debt, private nonguaranteed (PNG) (INT, current US$)',\n",
              " 'Interest payments on external debt, public and publicly guaranteed (PPG) (INT, current US$)',\n",
              " 'Interest payments on external debt, short-term (INT, current US$)',\n",
              " 'Interest payments on external debt, total (INT, current US$)',\n",
              " 'Multilateral debt (% of total external debt)',\n",
              " 'Multilateral debt service (% of public and publicly guaranteed debt service)',\n",
              " 'Multilateral debt service (TDS, current US$)',\n",
              " 'Net financial flows, bilateral (NFL, current US$)',\n",
              " 'Net financial flows, IMF concessional (NFL, current US$)',\n",
              " 'Net financial flows, IMF nonconcessional (NFL, current US$)',\n",
              " 'Net financial flows, multilateral (NFL, current US$)',\n",
              " 'Net financial flows, others (NFL, current US$)',\n",
              " 'Net financial flows, RDB concessional (NFL, current US$)',\n",
              " 'Net financial flows, RDB nonconcessional (NFL, current US$)',\n",
              " 'Net flows on external debt, long-term (NFL, current US$)',\n",
              " 'Net flows on external debt, private nonguaranteed (PNG) (NFL, current US$)',\n",
              " 'Net flows on external debt, public and publicly guaranteed (PPG) (NFL, current US$)',\n",
              " 'Net flows on external debt, short-term (NFL, current US$)',\n",
              " 'Net flows on external debt, total (NFL, current US$)',\n",
              " 'Net transfers on external debt, long-term (NTR, current US$)',\n",
              " 'Net transfers on external debt, private nonguaranteed (PNG) (NTR, current US$)',\n",
              " 'Net transfers on external debt, public and publicly guaranteed (PPG) (NTR, current US$)',\n",
              " 'Net transfers on external debt, total (NTR, current US$)',\n",
              " 'PNG, bonds (AMT, current US$)',\n",
              " 'PNG, bonds (DIS, current US$)',\n",
              " 'PNG, bonds (DOD, current US$)',\n",
              " 'PNG, bonds (INT, current US$)',\n",
              " 'PNG, bonds (NFL, current US$)',\n",
              " 'PNG, bonds (NTR, current US$)',\n",
              " 'PNG, bonds (TDS, current US$)',\n",
              " 'PNG, commercial banks and other creditors (AMT, current US$)',\n",
              " 'PNG, commercial banks and other creditors (DIS, current US$)',\n",
              " 'PNG, commercial banks and other creditors (DOD, current US$)',\n",
              " 'PNG, commercial banks and other creditors (INT, current US$)',\n",
              " 'PNG, commercial banks and other creditors (NFL, current US$)',\n",
              " 'PNG, commercial banks and other creditors (NTR, current US$)',\n",
              " 'PNG, commercial banks and other creditors (TDS, current US$)',\n",
              " 'Portfolio investment, bonds (PPG + PNG) (NFL, current US$)',\n",
              " 'PPG, bilateral (AMT, current US$)',\n",
              " 'PPG, bilateral (DIS, current US$)',\n",
              " 'PPG, bilateral (DOD, current US$)',\n",
              " 'PPG, bilateral (INT, current US$)',\n",
              " 'PPG, bilateral (NTR, current US$)',\n",
              " 'PPG, bilateral (TDS, current US$)',\n",
              " 'PPG, bilateral concessional (AMT, current US$)',\n",
              " 'PPG, bilateral concessional (DIS, current US$)',\n",
              " 'PPG, bilateral concessional (DOD, current US$)',\n",
              " 'PPG, bilateral concessional (INT, current US$)',\n",
              " 'PPG, bilateral concessional (NFL, current US$)',\n",
              " 'PPG, bilateral concessional (NTR, current US$)',\n",
              " 'PPG, bilateral concessional (TDS, current US$)',\n",
              " 'PPG, bonds (AMT, current US$)',\n",
              " 'PPG, bonds (DIS, current US$)',\n",
              " 'PPG, bonds (DOD, current US$)',\n",
              " 'PPG, bonds (INT, current US$)',\n",
              " 'PPG, bonds (NFL, current US$)',\n",
              " 'PPG, bonds (NTR, current US$)',\n",
              " 'PPG, bonds (TDS, current US$)',\n",
              " 'PPG, commercial banks (AMT, current US$)',\n",
              " 'PPG, commercial banks (DIS, current US$)',\n",
              " 'PPG, commercial banks (DOD, current US$)',\n",
              " 'PPG, commercial banks (INT, current US$)',\n",
              " 'PPG, commercial banks (NFL, current US$)',\n",
              " 'PPG, commercial banks (NTR, current US$)',\n",
              " 'PPG, commercial banks (TDS, current US$)',\n",
              " 'PPG, IBRD (AMT, current US$)',\n",
              " 'PPG, IBRD (DIS, current US$)',\n",
              " 'PPG, IBRD (DOD, current US$)',\n",
              " 'PPG, IBRD (INT, current US$)',\n",
              " 'PPG, IBRD (NTR, current US$)',\n",
              " 'PPG, IBRD (TDS, current US$)',\n",
              " 'PPG, IDA (AMT, current US$)',\n",
              " 'PPG, IDA (DIS, current US$)',\n",
              " 'PPG, IDA (DOD, current US$)',\n",
              " 'PPG, IDA (INT, current US$)',\n",
              " 'PPG, IDA (NTR, current US$)',\n",
              " 'PPG, IDA (TDS, current US$)',\n",
              " 'PPG, multilateral (AMT, current US$)',\n",
              " 'PPG, multilateral (DIS, current US$)',\n",
              " 'PPG, multilateral (DOD, current US$)',\n",
              " 'PPG, multilateral (INT, current US$)',\n",
              " 'PPG, multilateral (NTR, current US$)',\n",
              " 'PPG, multilateral concessional (AMT, current US$)',\n",
              " 'PPG, multilateral concessional (DIS, current US$)',\n",
              " 'PPG, multilateral concessional (DOD, current US$)',\n",
              " 'PPG, multilateral concessional (INT, current US$)',\n",
              " 'PPG, multilateral concessional (NFL, current US$)',\n",
              " 'PPG, multilateral concessional (NTR, current US$)',\n",
              " 'PPG, multilateral concessional (TDS, current US$)',\n",
              " 'PPG, official creditors (AMT, current US$)',\n",
              " 'PPG, official creditors (DIS, current US$)',\n",
              " 'PPG, official creditors (DOD, current US$)',\n",
              " 'PPG, official creditors (INT, current US$)',\n",
              " 'PPG, official creditors (NFL, current US$)',\n",
              " 'PPG, official creditors (NTR, current US$)',\n",
              " 'PPG, official creditors (TDS, current US$)',\n",
              " 'PPG, other private creditors (AMT, current US$)',\n",
              " 'PPG, other private creditors (DIS, current US$)',\n",
              " 'PPG, other private creditors (DOD, current US$)',\n",
              " 'PPG, other private creditors (INT, current US$)',\n",
              " 'PPG, other private creditors (NFL, current US$)',\n",
              " 'PPG, other private creditors (NTR, current US$)',\n",
              " 'PPG, other private creditors (TDS, current US$)',\n",
              " 'PPG, private creditors (AMT, current US$)',\n",
              " 'PPG, private creditors (DIS, current US$)',\n",
              " 'PPG, private creditors (DOD, current US$)',\n",
              " 'PPG, private creditors (INT, current US$)',\n",
              " 'PPG, private creditors (NFL, current US$)',\n",
              " 'PPG, private creditors (NTR, current US$)',\n",
              " 'PPG, private creditors (TDS, current US$)',\n",
              " 'Primary income on FDI, payments (current US$)',\n",
              " 'Principal arrears, long-term DOD (US$)',\n",
              " 'Principal arrears, official creditors (current US$)',\n",
              " 'Principal arrears, private creditors (current US$)',\n",
              " 'Principal repayments on external debt, long-term (AMT, current US$)',\n",
              " 'Principal repayments on external debt, long-term + IMF (AMT, current US$)',\n",
              " 'Principal repayments on external debt, private nonguaranteed (PNG) (AMT, current US$)',\n",
              " 'Principal repayments on external debt, public and publicly guaranteed (PPG) (AMT, current US$)',\n",
              " 'Short-term debt (% of total external debt)',\n",
              " 'Short-term debt (% of total reserves)',\n",
              " 'Undisbursed external debt, official creditors (UND, current US$)',\n",
              " 'Undisbursed external debt, private creditors (UND, current US$)',\n",
              " 'Undisbursed external debt, total (UND, current US$)',\n",
              " 'Use of IMF credit (DOD, current US$)',\n",
              " 'Gross intake ratio to Grade 1 of primary education, female (%)',\n",
              " 'Gross intake ratio to Grade 1 of primary education, male (%)',\n",
              " 'Survival rate to the last grade of primary education, female (%)',\n",
              " 'Survival rate to the last grade of primary education, male (%)',\n",
              " 'Percentage of repeaters in secondary general education, all grades, both sexes (%)',\n",
              " 'Percentage of repeaters in secondary general education, all grades, female (%)',\n",
              " 'Percentage of repeaters in secondary general education, all grades, male (%)',\n",
              " 'Primary to secondary general education transition rate, female (%)',\n",
              " 'Primary to secondary general education transition rate, male (%)',\n",
              " 'Adjusted net savings, excluding particulate emission damage (% of GNI)',\n",
              " 'Adjusted savings: net national savings (% of GNI)',\n",
              " 'Grants, excluding technical cooperation (BoP, current US$)',\n",
              " 'Technical cooperation grants (BoP, current US$)',\n",
              " 'Adjusted savings: carbon dioxide damage (current US$)',\n",
              " 'Adjusted savings: consumption of fixed capital (current US$)',\n",
              " 'Adjusted savings: education expenditure (current US$)',\n",
              " 'Adjusted savings: energy depletion (current US$)',\n",
              " 'Adjusted savings: mineral depletion (current US$)',\n",
              " 'Adjusted savings: net forest depletion (current US$)',\n",
              " 'Official entrance age to lower secondary education (years)',\n",
              " 'Official entrance age to primary education (years)',\n",
              " 'Theoretical duration of primary education (years)',\n",
              " 'Theoretical duration of secondary education (years)',\n",
              " 'Personal remittances, received (% of GDP)',\n",
              " 'Government expenditure on education as % of GDP (%)',\n",
              " 'Survival rate to Grade 5 of primary education, both sexes (%)',\n",
              " 'Survival rate to Grade 5 of primary education, female (%)',\n",
              " 'Survival rate to Grade 5 of primary education, male (%)',\n",
              " 'Adjusted net savings, excluding particulate emission damage (current US$)',\n",
              " 'Adjusted savings: net national savings (current US$)',\n",
              " 'Debt service (PPG and IMF only, % of exports of goods, services and primary income)',\n",
              " 'External debt stocks (% of exports of goods, services and primary income)',\n",
              " 'Interest payments on external debt (% of exports of goods, services and primary income)',\n",
              " 'Total debt service (% of exports of goods, services and primary income)',\n",
              " 'Expenditure on primary as % of government expenditure on education (%)',\n",
              " 'Expenditure on secondary as % of government expenditure on education (%)',\n",
              " 'Expenditure on tertiary as % of government expenditure on education (%)',\n",
              " 'Adult literacy rate, population 15+ years, both sexes (%)',\n",
              " 'Adult literacy rate, population 15+ years, female (%)',\n",
              " 'Adult literacy rate, population 15+ years, male (%)',\n",
              " 'Prevalence of overweight, weight for height, female (% of children under 5)',\n",
              " 'Prevalence of overweight, weight for height, male (% of children under 5)',\n",
              " 'Prevalence of severe wasting, weight for height (% of children under 5)',\n",
              " 'Prevalence of severe wasting, weight for height, female (% of children under 5)',\n",
              " 'Prevalence of severe wasting, weight for height, male (% of children under 5)',\n",
              " 'Prevalence of stunting, height for age, female (% of children under 5)',\n",
              " 'Prevalence of stunting, height for age, male (% of children under 5)',\n",
              " 'Prevalence of underweight, weight for age, female (% of children under 5)',\n",
              " 'Prevalence of underweight, weight for age, male (% of children under 5)',\n",
              " 'Prevalence of wasting, weight for height, female (% of children under 5)',\n",
              " 'Prevalence of wasting, weight for height, male (% of children under 5)',\n",
              " 'Foreign direct investment, net (BoP, current US$)',\n",
              " 'Total reserves (% of total external debt)',\n",
              " 'Adjusted net national income (annual % growth)',\n",
              " 'Adjusted net national income per capita (annual % growth)',\n",
              " 'Net bilateral aid flows from DAC donors, Ireland (current US$)',\n",
              " 'Government expenditure per secondary student as % of GDP per capita (%)',\n",
              " 'Government expenditure per primary student as % of GDP per capita (%)',\n",
              " 'Listed domestic companies, total',\n",
              " 'Market capitalization of listed domestic companies (% of GDP)',\n",
              " 'Market capitalization of listed domestic companies (current US$)',\n",
              " 'Stocks traded, total value (% of GDP)',\n",
              " 'Stocks traded, total value (current US$)',\n",
              " 'Real effective exchange rate index (2010 = 100)',\n",
              " 'Youth literacy rate, population 15-24 years, both sexes (%)',\n",
              " 'Youth literacy rate, population 15-24 years, female (%)',\n",
              " 'Youth literacy rate, population 15-24 years, gender parity index (GPI)',\n",
              " 'Youth literacy rate, population 15-24 years, male (%)',\n",
              " 'Foreign direct investment, net outflows (% of GDP)',\n",
              " 'Stocks traded, turnover ratio of domestic shares (%)',\n",
              " 'Poverty headcount ratio at national poverty lines (% of population)',\n",
              " 'Rural poverty headcount ratio at national poverty lines (% of rural population)',\n",
              " 'Urban poverty headcount ratio at national poverty lines (% of urban population)',\n",
              " 'Net official flows from UN agencies, UNFPA (current US$)',\n",
              " 'Net official flows from UN agencies, IFAD (current US$)',\n",
              " 'Agriculture value added per worker (constant 2005 US$)',\n",
              " 'Immunization, DPT (% of children ages 12-23 months)',\n",
              " 'Labor force participation rate for ages 15-24, female (%) (national estimate)',\n",
              " 'Labor force participation rate for ages 15-24, male (%) (national estimate)',\n",
              " 'Labor force participation rate for ages 15-24, total (%) (national estimate)',\n",
              " 'Labor force participation rate, female (% of female population ages 15+) (national estimate)',\n",
              " 'Labor force participation rate, male (% of male population ages 15+) (national estimate)',\n",
              " 'Labor force participation rate, total (% of total population ages 15+) (national estimate)',\n",
              " 'Rail lines (total route-km)',\n",
              " 'Railways, goods transported (million ton-km)',\n",
              " 'Railways, passengers carried (million passenger-km)',\n",
              " 'Net bilateral aid flows from DAC donors, Spain (current US$)',\n",
              " 'Immunization, measles (% of children ages 12-23 months)',\n",
              " 'Newborns protected against tetanus (%)',\n",
              " 'Employment to population ratio, 15+, female (%) (national estimate)',\n",
              " 'Employment to population ratio, 15+, male (%) (national estimate)',\n",
              " 'Employment to population ratio, 15+, total (%) (national estimate)',\n",
              " 'Employment to population ratio, ages 15-24, female (%) (national estimate)',\n",
              " 'Employment to population ratio, ages 15-24, male (%) (national estimate)',\n",
              " 'Employment to population ratio, ages 15-24, total (%) (national estimate)',\n",
              " 'Unemployment, youth female (% of female labor force ages 15-24) (national estimate)',\n",
              " 'Unemployment, youth male (% of male labor force ages 15-24) (national estimate)',\n",
              " 'Unemployment, youth total (% of total labor force ages 15-24) (national estimate)',\n",
              " 'Export value index (2000 = 100)',\n",
              " 'Import value index (2000 = 100)',\n",
              " 'GDP per person employed (constant 1990 PPP $)',\n",
              " 'Export volume index (2000 = 100)',\n",
              " 'Import volume index (2000 = 100)',\n",
              " 'Net barter terms of trade index (2000 = 100)',\n",
              " 'Ratio of female to male labor force participation rate (%) (national estimate)',\n",
              " 'Unemployment, total (% of total labor force) (national estimate)',\n",
              " 'Contributing family workers, female (% of females employed)',\n",
              " 'Contributing family workers, male (% of males employed)',\n",
              " 'Contributing family workers, total (% of total employed)',\n",
              " 'Employment in agriculture (% of total employment)',\n",
              " 'Employment in agriculture, female (% of female employment)',\n",
              " 'Employment in agriculture, male (% of male employment)',\n",
              " 'Employment in industry (% of total employment)',\n",
              " 'Employment in industry, female (% of female employment)',\n",
              " 'Employment in industry, male (% of male employment)',\n",
              " 'Employment in services (% of total employment)',\n",
              " 'Employment in services, female (% of female employment)',\n",
              " 'Employment in services, male (% of male employment)',\n",
              " 'Long-term unemployment (% of total unemployment)',\n",
              " 'Long-term unemployment, female (% of female unemployment)',\n",
              " 'Long-term unemployment, male (% of male unemployment)',\n",
              " 'Self-employed, female (% of females employed)',\n",
              " 'Self-employed, male (% of males employed)',\n",
              " 'Self-employed, total (% of total employed)',\n",
              " 'Unemployment, female (% of female labor force) (national estimate)',\n",
              " 'Unemployment, male (% of male labor force) (national estimate)',\n",
              " 'Wage and salaried workers, female (% of females employed)',\n",
              " 'Wage and salaried workers, total (% of total employed)',\n",
              " 'Wage and salary workers, male (% of males employed)',\n",
              " 'Part time employment, female (% of total female employment)',\n",
              " 'Part time employment, female (% of total part time employment)',\n",
              " 'Part time employment, male (% of total male employment)',\n",
              " 'Part time employment, total (% of total employment)',\n",
              " 'Unemployment with primary education (% of total unemployment)',\n",
              " 'Unemployment with primary education, female (% of female unemployment)',\n",
              " 'Unemployment with primary education, male (% of male unemployment)',\n",
              " 'Unemployment with secondary education (% of total unemployment)',\n",
              " 'Unemployment with secondary education, female (% of female unemployment)',\n",
              " 'Unemployment with secondary education, male (% of male unemployment)',\n",
              " 'Unemployment with tertiary education (% of total unemployment)',\n",
              " 'Unemployment with tertiary education, female (% of female unemployment)',\n",
              " 'Unemployment with tertiary education, male (% of male unemployment)',\n",
              " 'Employers, total (% of employment)',\n",
              " 'Vulnerable employment, total (% of total employment)',\n",
              " 'Employers, female (% of employment)',\n",
              " 'Employers, male (% of employment)',\n",
              " 'Labor force with primary education (% of total)',\n",
              " 'Labor force with primary education, female (% of female labor force)',\n",
              " 'Labor force with primary education, male (% of male labor force)',\n",
              " 'Labor force with secondary education (% of total)',\n",
              " 'Labor force with secondary education, female (% of female labor force)',\n",
              " 'Labor force with secondary education, male (% of male labor force)',\n",
              " 'Labor force with tertiary education (% of total)',\n",
              " 'Labor force with tertiary education, female (% of female labor force)',\n",
              " 'Labor force with tertiary education, male (% of male labor force)',\n",
              " 'Vulnerable employment, female (% of female employment)',\n",
              " 'Vulnerable employment, male (% of male employment)',\n",
              " 'Scientific and technical journal articles',\n",
              " 'Poverty gap at $1.90 a day (2011 PPP) (%)',\n",
              " 'Poverty gap at $3.10 a day (2011 PPP) (%)',\n",
              " 'Poverty headcount ratio at $1.90 a day (2011 PPP) (% of population)',\n",
              " 'Poverty headcount ratio at $3.10 a day (2011 PPP) (% of population)',\n",
              " 'GINI index (World Bank estimate)',\n",
              " 'Income share held by fourth 20%',\n",
              " 'Income share held by highest 10%',\n",
              " 'Income share held by highest 20%',\n",
              " 'Income share held by lowest 10%',\n",
              " 'Income share held by lowest 20%',\n",
              " 'Income share held by second 20%',\n",
              " 'Income share held by third 20%',\n",
              " 'Government expenditure per tertiary student as % of GDP per capita (%)',\n",
              " 'Pregnant women receiving prenatal care (%)',\n",
              " 'Births attended by skilled health staff (% of total)',\n",
              " 'Armed forces personnel, total',\n",
              " 'Diarrhea treatment (% of children under 5 who received ORS packet)',\n",
              " 'Teenage mothers (% of women ages 15-19 who have had children or are currently pregnant)',\n",
              " 'Wanted fertility rate (births per woman)',\n",
              " 'Female legislators, senior officials and managers (% of total)',\n",
              " 'Exclusive breastfeeding (% of children under 6 months)',\n",
              " 'Military expenditure (% of GDP)',\n",
              " 'High-technology exports (% of manufactured exports)',\n",
              " 'Share of tariff lines with international peaks, all products (%)',\n",
              " 'Share of tariff lines with international peaks, manufactured products (%)',\n",
              " 'Share of tariff lines with international peaks, primary products (%)',\n",
              " 'Share of tariff lines with specific rates, all products (%)',\n",
              " 'Share of tariff lines with specific rates, manufactured products (%)',\n",
              " 'Share of tariff lines with specific rates, primary products (%)',\n",
              " 'Tariff rate, applied, simple mean, all products (%)',\n",
              " 'Tariff rate, applied, simple mean, manufactured products (%)',\n",
              " 'Tariff rate, applied, simple mean, primary products (%)',\n",
              " 'Tariff rate, applied, weighted mean, all products (%)',\n",
              " 'Tariff rate, applied, weighted mean, manufactured products (%)',\n",
              " 'Tariff rate, applied, weighted mean, primary products (%)',\n",
              " 'Tariff rate, most favored nation, simple mean, all products (%)',\n",
              " 'Tariff rate, most favored nation, simple mean, manufactured products (%)',\n",
              " 'Tariff rate, most favored nation, simple mean, primary products (%)',\n",
              " 'Tariff rate, most favored nation, weighted mean, all products (%)',\n",
              " 'Tariff rate, most favored nation, weighted mean, manufactured products (%)',\n",
              " 'Tariff rate, most favored nation, weighted mean, primary products (%)',\n",
              " 'High-technology exports (current US$)',\n",
              " 'Military expenditure (current LCU)',\n",
              " 'Debt buyback (current US$)',\n",
              " 'Debt forgiveness or reduction (current US$)',\n",
              " 'Debt stock reduction (current US$)',\n",
              " 'Debt stock rescheduled (current US$)',\n",
              " 'Interest forgiven (current US$)',\n",
              " 'Interest rescheduled (capitalized) (current US$)',\n",
              " 'Interest rescheduled, official (current US$)',\n",
              " 'Interest rescheduled, private (current US$)',\n",
              " 'Net change in interest arrears (current US$)',\n",
              " 'Principal forgiven (current US$)',\n",
              " 'Principal rescheduled (current US$)',\n",
              " 'Principal rescheduled, official (current US$)',\n",
              " 'Principal rescheduled, private (current US$)',\n",
              " 'Residual, debt stock-flow reconciliation (current US$)',\n",
              " 'Total amount of debt rescheduled (current US$)',\n",
              " 'Total change in external debt stocks (current US$)',\n",
              " 'Battle-related deaths (number of people)',\n",
              " 'Access to electricity (% of population)',\n",
              " 'Access to electricity, rural (% of rural population)',\n",
              " 'Access to electricity, urban (% of urban population)',\n",
              " 'Access to non-solid fuel (% of population)',\n",
              " 'Adjusted net savings, including particulate emission damage (% of GNI)',\n",
              " 'Adjusted savings: particulate emission damage (% of GNI)',\n",
              " 'Agricultural methane emissions (% of total)',\n",
              " 'Agricultural nitrous oxide emissions (% of total)',\n",
              " 'Armed forces personnel (% of total labor force)',\n",
              " 'CO2 emissions (kg per 2011 PPP $ of GDP)',\n",
              " 'CO2 emissions (kg per PPP $ of GDP)',\n",
              " 'Emigration rate of tertiary educated (% of total tertiary educated population)',\n",
              " 'Energy intensity level of primary energy (MJ/$2011 PPP GDP)',\n",
              " 'Energy related methane emissions (% of total)',\n",
              " 'Energy use (kg of oil equivalent) per $1,000 GDP (constant 2011 PPP)',\n",
              " 'Forest area (% of land area)',\n",
              " 'Forest area (sq. km)',\n",
              " 'GDP per capita, PPP (constant 2011 international $)',\n",
              " 'GDP per capita, PPP (current international $)',\n",
              " 'GDP per unit of energy use (constant 2011 PPP $ per kg of oil equivalent)',\n",
              " 'GDP per unit of energy use (PPP $ per kg of oil equivalent)',\n",
              " 'GDP, PPP (constant 2011 international $)',\n",
              " 'GDP, PPP (current international $)',\n",
              " 'GNI per capita, PPP (current international $)',\n",
              " 'GNI, PPP (current international $)',\n",
              " 'Household final consumption expenditure, PPP (current international $)',\n",
              " 'Improved sanitation facilities (% of population with access)',\n",
              " 'Improved sanitation facilities, rural (% of rural population with access)',\n",
              " 'Improved sanitation facilities, urban (% of urban population with access)',\n",
              " 'Improved water source (% of population with access)',\n",
              " 'Improved water source, rural (% of rural population with access)',\n",
              " 'Improved water source, urban (% of urban population with access)',\n",
              " 'Labor force participation rate for ages 15-24, female (%) (modeled ILO estimate)',\n",
              " 'Labor force participation rate for ages 15-24, male (%) (modeled ILO estimate)',\n",
              " 'Labor force participation rate for ages 15-24, total (%) (modeled ILO estimate)',\n",
              " 'Labor force participation rate, female (% of female population ages 15+) (modeled ILO estimate)',\n",
              " 'Labor force participation rate, female (% of female population ages 15-64) (modeled ILO estimate)',\n",
              " 'Labor force participation rate, male (% of male population ages 15+) (modeled ILO estimate)',\n",
              " 'Labor force participation rate, male (% of male population ages 15-64) (modeled ILO estimate)',\n",
              " 'Labor force participation rate, total (% of total population ages 15+) (modeled ILO estimate)',\n",
              " 'Labor force participation rate, total (% of total population ages 15-64) (modeled ILO estimate)',\n",
              " 'Labor force, female (% of total labor force)',\n",
              " 'Labor force, total',\n",
              " 'Land area where elevation is below 5 meters (% of total land area)',\n",
              " 'Lifetime risk of maternal death (%)',\n",
              " 'Lifetime risk of maternal death (1 in: rate varies by country)',\n",
              " 'Marine protected areas (% of territorial waters)',\n",
              " 'Maternal mortality ratio (modeled estimate, per 100,000 live births)',\n",
              " 'Methane emissions (kt of CO2 equivalent)',\n",
              " 'Methane emissions in energy sector (thousand metric tons of CO2 equivalent)',\n",
              " 'Mortality rate, infant, female (per 1,000 live births)',\n",
              " 'Mortality rate, infant, male (per 1,000 live births)',\n",
              " 'Mortality rate, neonatal (per 1,000 live births)',\n",
              " 'Mortality rate, under-5, female (per 1,000 live births)',\n",
              " 'Mortality rate, under-5, male (per 1,000 live births)',\n",
              " 'Net bilateral aid flows from DAC donors, Luxembourg (current US$)',\n",
              " 'Nitrous oxide emissions (thousand metric tons of CO2 equivalent)',\n",
              " 'Nitrous oxide emissions in energy sector (thousand metric tons of CO2 equivalent)',\n",
              " 'Nitrous oxide emissions in industrial and energy processes (% of total nitrous oxide emissions)',\n",
              " 'Number of maternal deaths',\n",
              " 'Other greenhouse gas emissions, HFC, PFC and SF6 (thousand metric tons of CO2 equivalent)',\n",
              " 'PM2.5 air pollution, mean annual exposure (micrograms per cubic meter)',\n",
              " 'PM2.5 air pollution, population exposed to levels exceeding WHO guideline value (% of total)',\n",
              " 'Population living in areas where elevation is below 5 meters (% of total population)',\n",
              " 'Prevalence of anemia among children (% of children under 5)',\n",
              " 'Prevalence of anemia among non-pregnant women (% of women ages 15-49)',\n",
              " 'Prevalence of anemia among pregnant women (%)',\n",
              " 'Prevalence of HIV, female (% ages 15-24)',\n",
              " 'Prevalence of HIV, male (% ages 15-24)',\n",
              " 'Prevalence of HIV, total (% of population ages 15-49)',\n",
              " 'Proportion of seats held by women in national parliaments (%)',\n",
              " 'Ratio of female to male labor force participation rate (%) (modeled ILO estimate)',\n",
              " 'Refugee population by country or territory of asylum',\n",
              " 'Refugee population by country or territory of origin',\n",
              " 'Renewable electricity output (% of total electricity output)',\n",
              " 'Renewable energy consumption (% of total final energy consumption)',\n",
              " 'SF6 gas emissions (thousand metric tons of CO2 equivalent)',\n",
              " 'Terrestrial and marine protected areas (% of total territorial area)',\n",
              " 'Terrestrial protected areas (% of total land area)',\n",
              " \"Women's share of population ages 15+ living with HIV (%)\",\n",
              " 'Completeness of death registration with cause-of-death information (%)',\n",
              " 'Share of women in wage employment in the nonagricultural sector (% of total nonagricultural employment)',\n",
              " 'HFC gas emissions (thousand metric tons of CO2 equivalent)',\n",
              " 'Household final consumption expenditure, PPP (constant 2011 international $)',\n",
              " 'Net official aid received (constant 2012 US$)',\n",
              " 'Net official aid received (current US$)',\n",
              " 'PFC gas emissions (thousand metric tons of CO2 equivalent)',\n",
              " 'GNI per capita, PPP (constant 2011 international $)',\n",
              " 'GNI, PPP (constant 2011 international $)',\n",
              " 'Incidence of tuberculosis (per 100,000 people)',\n",
              " 'Tuberculosis case detection rate (%, all forms)',\n",
              " 'Unmet need for contraception (% of married women ages 15-49)',\n",
              " 'Community health workers (per 1,000 people)',\n",
              " 'Investment in transport with private participation (current US$)',\n",
              " 'Number of neonatal deaths',\n",
              " 'Nurses and midwives (per 1,000 people)',\n",
              " 'Cash surplus/deficit (% of GDP)',\n",
              " 'Expense (% of GDP)',\n",
              " 'Military expenditure (% of central government expenditure)',\n",
              " 'Revenue, excluding grants (% of GDP)',\n",
              " 'Tax revenue (% of GDP)',\n",
              " 'Grants and other revenue (% of revenue)',\n",
              " 'Other taxes (% of revenue)',\n",
              " 'Taxes on goods and services (% of revenue)',\n",
              " 'Taxes on income, profits and capital gains (% of revenue)',\n",
              " 'Taxes on international trade (% of revenue)',\n",
              " 'Interest payments (% of revenue)',\n",
              " 'Central government debt, total (% of GDP)',\n",
              " 'Interest payments (% of expense)',\n",
              " 'Net incurrence of liabilities, domestic (% of GDP)',\n",
              " 'Net incurrence of liabilities, foreign (% of GDP)',\n",
              " 'Children (0-14) living with HIV',\n",
              " 'Adjusted net savings, including particulate emission damage (current US$)',\n",
              " 'Adjusted savings: particulate emission damage (current US$)',\n",
              " 'Agricultural methane emissions (thousand metric tons of CO2 equivalent)',\n",
              " 'Agricultural nitrous oxide emissions (thousand metric tons of CO2 equivalent)',\n",
              " 'Industrial nitrous oxide emissions (thousand metric tons of CO2 equivalent)',\n",
              " 'PPP conversion factor, GDP (LCU per international $)',\n",
              " 'Price level ratio of PPP conversion factor (GDP) to market exchange rate',\n",
              " 'PPP conversion factor, private consumption (LCU per international $)',\n",
              " 'GHG net emissions/removals by LUCF (Mt of CO2 equivalent)',\n",
              " 'Investment in telecoms with private participation (current US$)',\n",
              " 'S&P Global Equity Indices (annual % change)',\n",
              " 'Cash surplus/deficit (current LCU)',\n",
              " 'Central government debt, total (current LCU)',\n",
              " 'Compensation of employees (% of expense)',\n",
              " 'Compensation of employees (current LCU)',\n",
              " 'Customs and other import duties (% of tax revenue)',\n",
              " 'Customs and other import duties (current LCU)',\n",
              " 'Expense (current LCU)',\n",
              " 'Goods and services expense (% of expense)',\n",
              " 'Goods and services expense (current LCU)',\n",
              " 'Grants and other revenue (current LCU)',\n",
              " 'Interest payments (current LCU)',\n",
              " 'Net incurrence of liabilities, domestic (current LCU)',\n",
              " 'Net incurrence of liabilities, foreign (current LCU)',\n",
              " 'Net ODA received (% of central government expense)',\n",
              " 'Other expense (% of expense)',\n",
              " 'Other expense (current LCU)',\n",
              " 'Other taxes (current LCU)',\n",
              " 'Revenue, excluding grants (current LCU)',\n",
              " 'Subsidies and other transfers (% of expense)',\n",
              " 'Subsidies and other transfers (current LCU)',\n",
              " 'Tax revenue (current LCU)',\n",
              " 'Taxes on exports (% of tax revenue)',\n",
              " 'Taxes on exports (current LCU)',\n",
              " 'Taxes on goods and services (% value added of industry and services)',\n",
              " 'Taxes on goods and services (current LCU)',\n",
              " 'Taxes on international trade (current LCU)',\n",
              " 'Taxes on income, profits and capital gains (% of total taxes)',\n",
              " 'Taxes on income, profits and capital gains (current LCU)',\n",
              " 'Social contributions (% of revenue)',\n",
              " 'Social contributions (current LCU)',\n",
              " 'Investment in energy with private participation (current US$)',\n",
              " 'ARI treatment (% of children under 5 taken to a health provider)',\n",
              " 'Diarrhea treatment (% of children under 5 receiving oral rehydration and continued feeding)',\n",
              " 'Female headed households (% of households with a female head)',\n",
              " 'Low-birthweight babies (% of births)',\n",
              " 'Employment to population ratio, 15+, female (%) (modeled ILO estimate)',\n",
              " 'Employment to population ratio, 15+, male (%) (modeled ILO estimate)',\n",
              " 'Employment to population ratio, 15+, total (%) (modeled ILO estimate)',\n",
              " 'Employment to population ratio, ages 15-24, female (%) (modeled ILO estimate)',\n",
              " 'Employment to population ratio, ages 15-24, male (%) (modeled ILO estimate)',\n",
              " 'Employment to population ratio, ages 15-24, total (%) (modeled ILO estimate)',\n",
              " 'Prevalence of undernourishment (% of population)',\n",
              " 'Unemployment, female (% of female labor force)',\n",
              " 'Unemployment, male (% of male labor force)',\n",
              " 'Unemployment, total (% of total labor force)',\n",
              " ...]"
            ]
          },
          "metadata": {
            "tags": []
          },
          "execution_count": 8
        }
      ]
    },
    {
      "cell_type": "markdown",
      "metadata": {
        "id": "Sm0N2bMrJioz",
        "colab_type": "text"
      },
      "source": [
        "## Exploratory Data Analysis"
      ]
    },
    {
      "cell_type": "markdown",
      "metadata": {
        "id": "UiirZ2xnNMw4",
        "colab_type": "text"
      },
      "source": [
        "#### The analysis wants to identify the following performance indicators: \n",
        "\n",
        "- Countries that have the highest **Health** **expenditure** per capita,\n",
        "- Countries that have more **Hospital** beds per 1000 people,\n",
        "- Countries that have more **Physicians** per 1000 people,\n",
        "- A correlation between 'Health expenditure per capita' and 'Hospital beds per 1000 people'.\n",
        "\n",
        "Also is very important to consider possible trends along the analyzed years.\n"
      ]
    },
    {
      "cell_type": "code",
      "metadata": {
        "id": "4Wx4axA9PvsA",
        "colab_type": "code",
        "colab": {}
      },
      "source": [
        "# From indicators; keywords will be selected according to the study purposes\n",
        "df_indicators_3 = df_indicators[df_indicators['IndicatorName'].str.contains('Health|Hospital|Physician|Population ages')]"
      ],
      "execution_count": 0,
      "outputs": []
    },
    {
      "cell_type": "code",
      "metadata": {
        "id": "0FIssjgsPvpC",
        "colab_type": "code",
        "outputId": "3154f025-642d-4579-b66a-72f6b547d9aa",
        "colab": {
          "base_uri": "https://localhost:8080/",
          "height": 183
        }
      },
      "source": [
        "df_indicators_3['IndicatorName'].unique().tolist()"
      ],
      "execution_count": 10,
      "outputs": [
        {
          "output_type": "execute_result",
          "data": {
            "text/plain": [
              "['Hospital beds (per 1,000 people)',\n",
              " 'Population ages 65 and above (% of total)',\n",
              " 'Physicians (per 1,000 people)',\n",
              " 'Health expenditure per capita (current US$)',\n",
              " 'Health expenditure per capita, PPP (constant 2011 international $)',\n",
              " 'Health expenditure, private (% of GDP)',\n",
              " 'Health expenditure, public (% of GDP)',\n",
              " 'Health expenditure, public (% of total health expenditure)',\n",
              " 'Health expenditure, total (% of GDP)',\n",
              " 'Health expenditure, public (% of government expenditure)']"
            ]
          },
          "metadata": {
            "tags": []
          },
          "execution_count": 10
        }
      ]
    },
    {
      "cell_type": "code",
      "metadata": {
        "id": "7J91gRVoj8xy",
        "colab_type": "code",
        "outputId": "643fce90-4089-40e6-fd4c-9ea2695a261f",
        "colab": {
          "base_uri": "https://localhost:8080/",
          "height": 33
        }
      },
      "source": [
        "df_indicators_3.shape"
      ],
      "execution_count": 11,
      "outputs": [
        {
          "output_type": "execute_result",
          "data": {
            "text/plain": [
              "(48268, 6)"
            ]
          },
          "metadata": {
            "tags": []
          },
          "execution_count": 11
        }
      ]
    },
    {
      "cell_type": "markdown",
      "metadata": {
        "id": "bD_tssvAPvla",
        "colab_type": "text"
      },
      "source": [
        "### Indicators selection\n",
        "\n",
        "Drill down t the indicatorsFilter to the following indicators:\n",
        "\n",
        "- Health expenditure per capita (current US$)\n",
        "- Hospital beds (per 1,000 people)\n",
        "- Physicians (per 1,000 people)\n"
      ]
    },
    {
      "cell_type": "code",
      "metadata": {
        "id": "ZIPZNfdymO2x",
        "colab_type": "code",
        "outputId": "96a23bba-697e-4254-cc78-593d4d446ac4",
        "colab": {
          "base_uri": "https://localhost:8080/",
          "height": 116
        }
      },
      "source": [
        "list(df_indicators_3)"
      ],
      "execution_count": 12,
      "outputs": [
        {
          "output_type": "execute_result",
          "data": {
            "text/plain": [
              "['CountryName',\n",
              " 'CountryCode',\n",
              " 'IndicatorName',\n",
              " 'IndicatorCode',\n",
              " 'Year',\n",
              " 'Value']"
            ]
          },
          "metadata": {
            "tags": []
          },
          "execution_count": 12
        }
      ]
    },
    {
      "cell_type": "code",
      "metadata": {
        "id": "JRP51a2MnWlU",
        "colab_type": "code",
        "colab": {}
      },
      "source": [
        "df_indicators_in = df_indicators_3.set_index('IndicatorName')"
      ],
      "execution_count": 0,
      "outputs": []
    },
    {
      "cell_type": "code",
      "metadata": {
        "id": "nQmajPu3oX0M",
        "colab_type": "code",
        "colab": {}
      },
      "source": [
        "df_indicators_in = df_indicators_in.drop(['Population ages 65 and above (% of total)',\n",
        " 'Health expenditure per capita, PPP (constant 2011 international $)',\n",
        " 'Health expenditure, private (% of GDP)',\n",
        " 'Health expenditure, public (% of GDP)',\n",
        " 'Health expenditure, public (% of total health expenditure)',\n",
        " 'Health expenditure, total (% of GDP)',\n",
        " 'Health expenditure, public (% of government expenditure)'], axis=0)"
      ],
      "execution_count": 0,
      "outputs": []
    },
    {
      "cell_type": "code",
      "metadata": {
        "id": "F_DujEWsoPCU",
        "colab_type": "code",
        "outputId": "9c49a0ef-8bdd-42c7-ac16-de71958871e2",
        "colab": {
          "base_uri": "https://localhost:8080/",
          "height": 227
        }
      },
      "source": [
        "df_indicators_in.head()"
      ],
      "execution_count": 15,
      "outputs": [
        {
          "output_type": "execute_result",
          "data": {
            "text/html": [
              "<div>\n",
              "<style scoped>\n",
              "    .dataframe tbody tr th:only-of-type {\n",
              "        vertical-align: middle;\n",
              "    }\n",
              "\n",
              "    .dataframe tbody tr th {\n",
              "        vertical-align: top;\n",
              "    }\n",
              "\n",
              "    .dataframe thead th {\n",
              "        text-align: right;\n",
              "    }\n",
              "</style>\n",
              "<table border=\"1\" class=\"dataframe\">\n",
              "  <thead>\n",
              "    <tr style=\"text-align: right;\">\n",
              "      <th></th>\n",
              "      <th>CountryName</th>\n",
              "      <th>CountryCode</th>\n",
              "      <th>IndicatorCode</th>\n",
              "      <th>Year</th>\n",
              "      <th>Value</th>\n",
              "    </tr>\n",
              "    <tr>\n",
              "      <th>IndicatorName</th>\n",
              "      <th></th>\n",
              "      <th></th>\n",
              "      <th></th>\n",
              "      <th></th>\n",
              "      <th></th>\n",
              "    </tr>\n",
              "  </thead>\n",
              "  <tbody>\n",
              "    <tr>\n",
              "      <th>Hospital beds (per 1,000 people)</th>\n",
              "      <td>Arab World</td>\n",
              "      <td>ARB</td>\n",
              "      <td>SH.MED.BEDS.ZS</td>\n",
              "      <td>1960</td>\n",
              "      <td>1.929622</td>\n",
              "    </tr>\n",
              "    <tr>\n",
              "      <th>Hospital beds (per 1,000 people)</th>\n",
              "      <td>Caribbean small states</td>\n",
              "      <td>CSS</td>\n",
              "      <td>SH.MED.BEDS.ZS</td>\n",
              "      <td>1960</td>\n",
              "      <td>5.054266</td>\n",
              "    </tr>\n",
              "    <tr>\n",
              "      <th>Hospital beds (per 1,000 people)</th>\n",
              "      <td>Fragile and conflict affected situations</td>\n",
              "      <td>FCS</td>\n",
              "      <td>SH.MED.BEDS.ZS</td>\n",
              "      <td>1960</td>\n",
              "      <td>1.790193</td>\n",
              "    </tr>\n",
              "    <tr>\n",
              "      <th>Hospital beds (per 1,000 people)</th>\n",
              "      <td>Heavily indebted poor countries (HIPC)</td>\n",
              "      <td>HPC</td>\n",
              "      <td>SH.MED.BEDS.ZS</td>\n",
              "      <td>1960</td>\n",
              "      <td>1.515629</td>\n",
              "    </tr>\n",
              "    <tr>\n",
              "      <th>Hospital beds (per 1,000 people)</th>\n",
              "      <td>High income: OECD</td>\n",
              "      <td>OEC</td>\n",
              "      <td>SH.MED.BEDS.ZS</td>\n",
              "      <td>1960</td>\n",
              "      <td>9.105600</td>\n",
              "    </tr>\n",
              "  </tbody>\n",
              "</table>\n",
              "</div>"
            ],
            "text/plain": [
              "                                                               CountryName  ...     Value\n",
              "IndicatorName                                                               ...          \n",
              "Hospital beds (per 1,000 people)                                Arab World  ...  1.929622\n",
              "Hospital beds (per 1,000 people)                    Caribbean small states  ...  5.054266\n",
              "Hospital beds (per 1,000 people)  Fragile and conflict affected situations  ...  1.790193\n",
              "Hospital beds (per 1,000 people)    Heavily indebted poor countries (HIPC)  ...  1.515629\n",
              "Hospital beds (per 1,000 people)                         High income: OECD  ...  9.105600\n",
              "\n",
              "[5 rows x 5 columns]"
            ]
          },
          "metadata": {
            "tags": []
          },
          "execution_count": 15
        }
      ]
    },
    {
      "cell_type": "code",
      "metadata": {
        "id": "HC8Ldlwcl4xk",
        "colab_type": "code",
        "colab": {}
      },
      "source": [
        "df_indicators_in = df_indicators_in.reset_index('IndicatorName')"
      ],
      "execution_count": 0,
      "outputs": []
    },
    {
      "cell_type": "code",
      "metadata": {
        "id": "8h78gpjnvnXB",
        "colab_type": "code",
        "outputId": "98a7c6cc-98b7-46ba-d9d0-92b8025f0c66",
        "colab": {
          "base_uri": "https://localhost:8080/",
          "height": 197
        }
      },
      "source": [
        "df_indicators_in.head()"
      ],
      "execution_count": 17,
      "outputs": [
        {
          "output_type": "execute_result",
          "data": {
            "text/html": [
              "<div>\n",
              "<style scoped>\n",
              "    .dataframe tbody tr th:only-of-type {\n",
              "        vertical-align: middle;\n",
              "    }\n",
              "\n",
              "    .dataframe tbody tr th {\n",
              "        vertical-align: top;\n",
              "    }\n",
              "\n",
              "    .dataframe thead th {\n",
              "        text-align: right;\n",
              "    }\n",
              "</style>\n",
              "<table border=\"1\" class=\"dataframe\">\n",
              "  <thead>\n",
              "    <tr style=\"text-align: right;\">\n",
              "      <th></th>\n",
              "      <th>IndicatorName</th>\n",
              "      <th>CountryName</th>\n",
              "      <th>CountryCode</th>\n",
              "      <th>IndicatorCode</th>\n",
              "      <th>Year</th>\n",
              "      <th>Value</th>\n",
              "    </tr>\n",
              "  </thead>\n",
              "  <tbody>\n",
              "    <tr>\n",
              "      <th>0</th>\n",
              "      <td>Hospital beds (per 1,000 people)</td>\n",
              "      <td>Arab World</td>\n",
              "      <td>ARB</td>\n",
              "      <td>SH.MED.BEDS.ZS</td>\n",
              "      <td>1960</td>\n",
              "      <td>1.929622</td>\n",
              "    </tr>\n",
              "    <tr>\n",
              "      <th>1</th>\n",
              "      <td>Hospital beds (per 1,000 people)</td>\n",
              "      <td>Caribbean small states</td>\n",
              "      <td>CSS</td>\n",
              "      <td>SH.MED.BEDS.ZS</td>\n",
              "      <td>1960</td>\n",
              "      <td>5.054266</td>\n",
              "    </tr>\n",
              "    <tr>\n",
              "      <th>2</th>\n",
              "      <td>Hospital beds (per 1,000 people)</td>\n",
              "      <td>Fragile and conflict affected situations</td>\n",
              "      <td>FCS</td>\n",
              "      <td>SH.MED.BEDS.ZS</td>\n",
              "      <td>1960</td>\n",
              "      <td>1.790193</td>\n",
              "    </tr>\n",
              "    <tr>\n",
              "      <th>3</th>\n",
              "      <td>Hospital beds (per 1,000 people)</td>\n",
              "      <td>Heavily indebted poor countries (HIPC)</td>\n",
              "      <td>HPC</td>\n",
              "      <td>SH.MED.BEDS.ZS</td>\n",
              "      <td>1960</td>\n",
              "      <td>1.515629</td>\n",
              "    </tr>\n",
              "    <tr>\n",
              "      <th>4</th>\n",
              "      <td>Hospital beds (per 1,000 people)</td>\n",
              "      <td>High income: OECD</td>\n",
              "      <td>OEC</td>\n",
              "      <td>SH.MED.BEDS.ZS</td>\n",
              "      <td>1960</td>\n",
              "      <td>9.105600</td>\n",
              "    </tr>\n",
              "  </tbody>\n",
              "</table>\n",
              "</div>"
            ],
            "text/plain": [
              "                      IndicatorName  ...     Value\n",
              "0  Hospital beds (per 1,000 people)  ...  1.929622\n",
              "1  Hospital beds (per 1,000 people)  ...  5.054266\n",
              "2  Hospital beds (per 1,000 people)  ...  1.790193\n",
              "3  Hospital beds (per 1,000 people)  ...  1.515629\n",
              "4  Hospital beds (per 1,000 people)  ...  9.105600\n",
              "\n",
              "[5 rows x 6 columns]"
            ]
          },
          "metadata": {
            "tags": []
          },
          "execution_count": 17
        }
      ]
    },
    {
      "cell_type": "code",
      "metadata": {
        "id": "XPlY-D7Ry2bA",
        "colab_type": "code",
        "outputId": "96aa5428-f626-4b37-a9aa-2b22a4de417a",
        "colab": {
          "base_uri": "https://localhost:8080/",
          "height": 33
        }
      },
      "source": [
        "df_indicators_in.shape"
      ],
      "execution_count": 18,
      "outputs": [
        {
          "output_type": "execute_result",
          "data": {
            "text/plain": [
              "(11266, 6)"
            ]
          },
          "metadata": {
            "tags": []
          },
          "execution_count": 18
        }
      ]
    },
    {
      "cell_type": "markdown",
      "metadata": {
        "_uuid": "9e98082b811a86c483d1a57ae4133c0217651be0",
        "id": "kJuBpmQi9b0n",
        "colab_type": "text"
      },
      "source": [
        "### Countries selection\n",
        "- G7 members + Switzerland, Denmark, Netherlands, Belgium, Finland, Sweden, Norway\n",
        "- North America\n",
        "- China and Japan"
      ]
    },
    {
      "cell_type": "code",
      "metadata": {
        "id": "7jitTfhewEnd",
        "colab_type": "code",
        "colab": {}
      },
      "source": [
        "df_indicators_cc = df_indicators_in.set_index('CountryCode')"
      ],
      "execution_count": 0,
      "outputs": []
    },
    {
      "cell_type": "code",
      "metadata": {
        "id": "iCE4tH2dw44N",
        "colab_type": "code",
        "outputId": "ac75c2e3-740c-4e7f-ecac-d52d7f49daa2",
        "colab": {
          "base_uri": "https://localhost:8080/",
          "height": 227
        }
      },
      "source": [
        "df_indicators_cc.head()"
      ],
      "execution_count": 20,
      "outputs": [
        {
          "output_type": "execute_result",
          "data": {
            "text/html": [
              "<div>\n",
              "<style scoped>\n",
              "    .dataframe tbody tr th:only-of-type {\n",
              "        vertical-align: middle;\n",
              "    }\n",
              "\n",
              "    .dataframe tbody tr th {\n",
              "        vertical-align: top;\n",
              "    }\n",
              "\n",
              "    .dataframe thead th {\n",
              "        text-align: right;\n",
              "    }\n",
              "</style>\n",
              "<table border=\"1\" class=\"dataframe\">\n",
              "  <thead>\n",
              "    <tr style=\"text-align: right;\">\n",
              "      <th></th>\n",
              "      <th>IndicatorName</th>\n",
              "      <th>CountryName</th>\n",
              "      <th>IndicatorCode</th>\n",
              "      <th>Year</th>\n",
              "      <th>Value</th>\n",
              "    </tr>\n",
              "    <tr>\n",
              "      <th>CountryCode</th>\n",
              "      <th></th>\n",
              "      <th></th>\n",
              "      <th></th>\n",
              "      <th></th>\n",
              "      <th></th>\n",
              "    </tr>\n",
              "  </thead>\n",
              "  <tbody>\n",
              "    <tr>\n",
              "      <th>ARB</th>\n",
              "      <td>Hospital beds (per 1,000 people)</td>\n",
              "      <td>Arab World</td>\n",
              "      <td>SH.MED.BEDS.ZS</td>\n",
              "      <td>1960</td>\n",
              "      <td>1.929622</td>\n",
              "    </tr>\n",
              "    <tr>\n",
              "      <th>CSS</th>\n",
              "      <td>Hospital beds (per 1,000 people)</td>\n",
              "      <td>Caribbean small states</td>\n",
              "      <td>SH.MED.BEDS.ZS</td>\n",
              "      <td>1960</td>\n",
              "      <td>5.054266</td>\n",
              "    </tr>\n",
              "    <tr>\n",
              "      <th>FCS</th>\n",
              "      <td>Hospital beds (per 1,000 people)</td>\n",
              "      <td>Fragile and conflict affected situations</td>\n",
              "      <td>SH.MED.BEDS.ZS</td>\n",
              "      <td>1960</td>\n",
              "      <td>1.790193</td>\n",
              "    </tr>\n",
              "    <tr>\n",
              "      <th>HPC</th>\n",
              "      <td>Hospital beds (per 1,000 people)</td>\n",
              "      <td>Heavily indebted poor countries (HIPC)</td>\n",
              "      <td>SH.MED.BEDS.ZS</td>\n",
              "      <td>1960</td>\n",
              "      <td>1.515629</td>\n",
              "    </tr>\n",
              "    <tr>\n",
              "      <th>OEC</th>\n",
              "      <td>Hospital beds (per 1,000 people)</td>\n",
              "      <td>High income: OECD</td>\n",
              "      <td>SH.MED.BEDS.ZS</td>\n",
              "      <td>1960</td>\n",
              "      <td>9.105600</td>\n",
              "    </tr>\n",
              "  </tbody>\n",
              "</table>\n",
              "</div>"
            ],
            "text/plain": [
              "                                IndicatorName  ...     Value\n",
              "CountryCode                                    ...          \n",
              "ARB          Hospital beds (per 1,000 people)  ...  1.929622\n",
              "CSS          Hospital beds (per 1,000 people)  ...  5.054266\n",
              "FCS          Hospital beds (per 1,000 people)  ...  1.790193\n",
              "HPC          Hospital beds (per 1,000 people)  ...  1.515629\n",
              "OEC          Hospital beds (per 1,000 people)  ...  9.105600\n",
              "\n",
              "[5 rows x 5 columns]"
            ]
          },
          "metadata": {
            "tags": []
          },
          "execution_count": 20
        }
      ]
    },
    {
      "cell_type": "code",
      "metadata": {
        "id": "4rqyK_sjzUbw",
        "colab_type": "code",
        "colab": {}
      },
      "source": [
        "df_indicators_cc = df_indicators_cc.loc[ ['CAN', 'FRA', 'DEU', 'IT', 'JPN', 'GBR', 'USA', \n",
        "                  'CHE', 'DNK', 'NLD', 'BEL', 'SWE', 'NOR', 'FIN'] , : ]"
      ],
      "execution_count": 0,
      "outputs": []
    },
    {
      "cell_type": "code",
      "metadata": {
        "id": "gm_DuFQt0JId",
        "colab_type": "code",
        "outputId": "0302ce5c-6a7c-41c5-974b-a578429eafdd",
        "colab": {
          "base_uri": "https://localhost:8080/",
          "height": 33
        }
      },
      "source": [
        "df_indicators_cc.shape"
      ],
      "execution_count": 143,
      "outputs": [
        {
          "output_type": "execute_result",
          "data": {
            "text/plain": [
              "(1078, 6)"
            ]
          },
          "metadata": {
            "tags": []
          },
          "execution_count": 143
        }
      ]
    },
    {
      "cell_type": "code",
      "metadata": {
        "id": "5_QAVEdIwur4",
        "colab_type": "code",
        "colab": {}
      },
      "source": [
        "df_indicators_cc = df_indicators_cc.reset_index('CountryCode')"
      ],
      "execution_count": 0,
      "outputs": []
    },
    {
      "cell_type": "code",
      "metadata": {
        "id": "Q8DaTBKP0xiU",
        "colab_type": "code",
        "outputId": "9da1e562-4546-4abc-e939-16cf545ed3b1",
        "colab": {
          "base_uri": "https://localhost:8080/",
          "height": 197
        }
      },
      "source": [
        "df_indicators_cc.head()"
      ],
      "execution_count": 24,
      "outputs": [
        {
          "output_type": "execute_result",
          "data": {
            "text/html": [
              "<div>\n",
              "<style scoped>\n",
              "    .dataframe tbody tr th:only-of-type {\n",
              "        vertical-align: middle;\n",
              "    }\n",
              "\n",
              "    .dataframe tbody tr th {\n",
              "        vertical-align: top;\n",
              "    }\n",
              "\n",
              "    .dataframe thead th {\n",
              "        text-align: right;\n",
              "    }\n",
              "</style>\n",
              "<table border=\"1\" class=\"dataframe\">\n",
              "  <thead>\n",
              "    <tr style=\"text-align: right;\">\n",
              "      <th></th>\n",
              "      <th>CountryCode</th>\n",
              "      <th>IndicatorName</th>\n",
              "      <th>CountryName</th>\n",
              "      <th>IndicatorCode</th>\n",
              "      <th>Year</th>\n",
              "      <th>Value</th>\n",
              "    </tr>\n",
              "  </thead>\n",
              "  <tbody>\n",
              "    <tr>\n",
              "      <th>0</th>\n",
              "      <td>CAN</td>\n",
              "      <td>Hospital beds (per 1,000 people)</td>\n",
              "      <td>Canada</td>\n",
              "      <td>SH.MED.BEDS.ZS</td>\n",
              "      <td>1960.0</td>\n",
              "      <td>6.2</td>\n",
              "    </tr>\n",
              "    <tr>\n",
              "      <th>1</th>\n",
              "      <td>CAN</td>\n",
              "      <td>Physicians (per 1,000 people)</td>\n",
              "      <td>Canada</td>\n",
              "      <td>SH.MED.PHYS.ZS</td>\n",
              "      <td>1961.0</td>\n",
              "      <td>1.1</td>\n",
              "    </tr>\n",
              "    <tr>\n",
              "      <th>2</th>\n",
              "      <td>CAN</td>\n",
              "      <td>Physicians (per 1,000 people)</td>\n",
              "      <td>Canada</td>\n",
              "      <td>SH.MED.PHYS.ZS</td>\n",
              "      <td>1962.0</td>\n",
              "      <td>1.2</td>\n",
              "    </tr>\n",
              "    <tr>\n",
              "      <th>3</th>\n",
              "      <td>CAN</td>\n",
              "      <td>Physicians (per 1,000 people)</td>\n",
              "      <td>Canada</td>\n",
              "      <td>SH.MED.PHYS.ZS</td>\n",
              "      <td>1963.0</td>\n",
              "      <td>1.3</td>\n",
              "    </tr>\n",
              "    <tr>\n",
              "      <th>4</th>\n",
              "      <td>CAN</td>\n",
              "      <td>Physicians (per 1,000 people)</td>\n",
              "      <td>Canada</td>\n",
              "      <td>SH.MED.PHYS.ZS</td>\n",
              "      <td>1964.0</td>\n",
              "      <td>1.3</td>\n",
              "    </tr>\n",
              "  </tbody>\n",
              "</table>\n",
              "</div>"
            ],
            "text/plain": [
              "  CountryCode                     IndicatorName  ...    Year Value\n",
              "0         CAN  Hospital beds (per 1,000 people)  ...  1960.0   6.2\n",
              "1         CAN     Physicians (per 1,000 people)  ...  1961.0   1.1\n",
              "2         CAN     Physicians (per 1,000 people)  ...  1962.0   1.2\n",
              "3         CAN     Physicians (per 1,000 people)  ...  1963.0   1.3\n",
              "4         CAN     Physicians (per 1,000 people)  ...  1964.0   1.3\n",
              "\n",
              "[5 rows x 6 columns]"
            ]
          },
          "metadata": {
            "tags": []
          },
          "execution_count": 24
        }
      ]
    },
    {
      "cell_type": "markdown",
      "metadata": {
        "_uuid": "c8d0f78f7c90dd7d594035019aa4b67800a01a81",
        "id": "2Fhwok6B9b0r",
        "colab_type": "text"
      },
      "source": [
        "### Years of interest\n",
        "Time interval from 2000 to 2010 included"
      ]
    },
    {
      "cell_type": "code",
      "metadata": {
        "id": "b3ylI3mT0hfB",
        "colab_type": "code",
        "colab": {}
      },
      "source": [
        "df_indicators_ye = df_indicators_cc.set_index('Year')"
      ],
      "execution_count": 0,
      "outputs": []
    },
    {
      "cell_type": "code",
      "metadata": {
        "id": "j3M1iVp-0-WI",
        "colab_type": "code",
        "outputId": "20ceae55-f9c2-47e4-af24-5cde30d7c52b",
        "colab": {
          "base_uri": "https://localhost:8080/",
          "height": 227
        }
      },
      "source": [
        "df_indicators_ye.head()"
      ],
      "execution_count": 26,
      "outputs": [
        {
          "output_type": "execute_result",
          "data": {
            "text/html": [
              "<div>\n",
              "<style scoped>\n",
              "    .dataframe tbody tr th:only-of-type {\n",
              "        vertical-align: middle;\n",
              "    }\n",
              "\n",
              "    .dataframe tbody tr th {\n",
              "        vertical-align: top;\n",
              "    }\n",
              "\n",
              "    .dataframe thead th {\n",
              "        text-align: right;\n",
              "    }\n",
              "</style>\n",
              "<table border=\"1\" class=\"dataframe\">\n",
              "  <thead>\n",
              "    <tr style=\"text-align: right;\">\n",
              "      <th></th>\n",
              "      <th>CountryCode</th>\n",
              "      <th>IndicatorName</th>\n",
              "      <th>CountryName</th>\n",
              "      <th>IndicatorCode</th>\n",
              "      <th>Value</th>\n",
              "    </tr>\n",
              "    <tr>\n",
              "      <th>Year</th>\n",
              "      <th></th>\n",
              "      <th></th>\n",
              "      <th></th>\n",
              "      <th></th>\n",
              "      <th></th>\n",
              "    </tr>\n",
              "  </thead>\n",
              "  <tbody>\n",
              "    <tr>\n",
              "      <th>1960.0</th>\n",
              "      <td>CAN</td>\n",
              "      <td>Hospital beds (per 1,000 people)</td>\n",
              "      <td>Canada</td>\n",
              "      <td>SH.MED.BEDS.ZS</td>\n",
              "      <td>6.2</td>\n",
              "    </tr>\n",
              "    <tr>\n",
              "      <th>1961.0</th>\n",
              "      <td>CAN</td>\n",
              "      <td>Physicians (per 1,000 people)</td>\n",
              "      <td>Canada</td>\n",
              "      <td>SH.MED.PHYS.ZS</td>\n",
              "      <td>1.1</td>\n",
              "    </tr>\n",
              "    <tr>\n",
              "      <th>1962.0</th>\n",
              "      <td>CAN</td>\n",
              "      <td>Physicians (per 1,000 people)</td>\n",
              "      <td>Canada</td>\n",
              "      <td>SH.MED.PHYS.ZS</td>\n",
              "      <td>1.2</td>\n",
              "    </tr>\n",
              "    <tr>\n",
              "      <th>1963.0</th>\n",
              "      <td>CAN</td>\n",
              "      <td>Physicians (per 1,000 people)</td>\n",
              "      <td>Canada</td>\n",
              "      <td>SH.MED.PHYS.ZS</td>\n",
              "      <td>1.3</td>\n",
              "    </tr>\n",
              "    <tr>\n",
              "      <th>1964.0</th>\n",
              "      <td>CAN</td>\n",
              "      <td>Physicians (per 1,000 people)</td>\n",
              "      <td>Canada</td>\n",
              "      <td>SH.MED.PHYS.ZS</td>\n",
              "      <td>1.3</td>\n",
              "    </tr>\n",
              "  </tbody>\n",
              "</table>\n",
              "</div>"
            ],
            "text/plain": [
              "       CountryCode                     IndicatorName  ...   IndicatorCode Value\n",
              "Year                                                  ...                      \n",
              "1960.0         CAN  Hospital beds (per 1,000 people)  ...  SH.MED.BEDS.ZS   6.2\n",
              "1961.0         CAN     Physicians (per 1,000 people)  ...  SH.MED.PHYS.ZS   1.1\n",
              "1962.0         CAN     Physicians (per 1,000 people)  ...  SH.MED.PHYS.ZS   1.2\n",
              "1963.0         CAN     Physicians (per 1,000 people)  ...  SH.MED.PHYS.ZS   1.3\n",
              "1964.0         CAN     Physicians (per 1,000 people)  ...  SH.MED.PHYS.ZS   1.3\n",
              "\n",
              "[5 rows x 5 columns]"
            ]
          },
          "metadata": {
            "tags": []
          },
          "execution_count": 26
        }
      ]
    },
    {
      "cell_type": "code",
      "metadata": {
        "id": "X_JaKXDb1OoP",
        "colab_type": "code",
        "colab": {}
      },
      "source": [
        "df_indicators_ye = df_indicators_ye.loc[ [2000, 2001, 2002, 2003, 2004, 2005, 2006, 2007, 2008, 2009, 2010] , : ]"
      ],
      "execution_count": 0,
      "outputs": []
    },
    {
      "cell_type": "code",
      "metadata": {
        "id": "XQ4qs2M82bSi",
        "colab_type": "code",
        "colab": {}
      },
      "source": [
        "df_indicators_ye = df_indicators_ye.reset_index('Year')"
      ],
      "execution_count": 0,
      "outputs": []
    },
    {
      "cell_type": "code",
      "metadata": {
        "id": "94FjWdIK2Nka",
        "colab_type": "code",
        "outputId": "808ff576-6e23-4768-861b-27b900f5e19b",
        "colab": {
          "base_uri": "https://localhost:8080/",
          "height": 197
        }
      },
      "source": [
        "df_indicators_ye.head()"
      ],
      "execution_count": 29,
      "outputs": [
        {
          "output_type": "execute_result",
          "data": {
            "text/html": [
              "<div>\n",
              "<style scoped>\n",
              "    .dataframe tbody tr th:only-of-type {\n",
              "        vertical-align: middle;\n",
              "    }\n",
              "\n",
              "    .dataframe tbody tr th {\n",
              "        vertical-align: top;\n",
              "    }\n",
              "\n",
              "    .dataframe thead th {\n",
              "        text-align: right;\n",
              "    }\n",
              "</style>\n",
              "<table border=\"1\" class=\"dataframe\">\n",
              "  <thead>\n",
              "    <tr style=\"text-align: right;\">\n",
              "      <th></th>\n",
              "      <th>Year</th>\n",
              "      <th>CountryCode</th>\n",
              "      <th>IndicatorName</th>\n",
              "      <th>CountryName</th>\n",
              "      <th>IndicatorCode</th>\n",
              "      <th>Value</th>\n",
              "    </tr>\n",
              "  </thead>\n",
              "  <tbody>\n",
              "    <tr>\n",
              "      <th>0</th>\n",
              "      <td>2000.0</td>\n",
              "      <td>CAN</td>\n",
              "      <td>Health expenditure per capita (current US$)</td>\n",
              "      <td>Canada</td>\n",
              "      <td>SH.XPD.PCAP</td>\n",
              "      <td>2099.841406</td>\n",
              "    </tr>\n",
              "    <tr>\n",
              "      <th>1</th>\n",
              "      <td>2000.0</td>\n",
              "      <td>CAN</td>\n",
              "      <td>Hospital beds (per 1,000 people)</td>\n",
              "      <td>Canada</td>\n",
              "      <td>SH.MED.BEDS.ZS</td>\n",
              "      <td>3.400000</td>\n",
              "    </tr>\n",
              "    <tr>\n",
              "      <th>2</th>\n",
              "      <td>2000.0</td>\n",
              "      <td>CAN</td>\n",
              "      <td>Physicians (per 1,000 people)</td>\n",
              "      <td>Canada</td>\n",
              "      <td>SH.MED.PHYS.ZS</td>\n",
              "      <td>2.100000</td>\n",
              "    </tr>\n",
              "    <tr>\n",
              "      <th>3</th>\n",
              "      <td>2000.0</td>\n",
              "      <td>FRA</td>\n",
              "      <td>Health expenditure per capita (current US$)</td>\n",
              "      <td>France</td>\n",
              "      <td>SH.XPD.PCAP</td>\n",
              "      <td>2209.243825</td>\n",
              "    </tr>\n",
              "    <tr>\n",
              "      <th>4</th>\n",
              "      <td>2000.0</td>\n",
              "      <td>FRA</td>\n",
              "      <td>Hospital beds (per 1,000 people)</td>\n",
              "      <td>France</td>\n",
              "      <td>SH.MED.BEDS.ZS</td>\n",
              "      <td>8.100000</td>\n",
              "    </tr>\n",
              "  </tbody>\n",
              "</table>\n",
              "</div>"
            ],
            "text/plain": [
              "     Year CountryCode  ...   IndicatorCode        Value\n",
              "0  2000.0         CAN  ...     SH.XPD.PCAP  2099.841406\n",
              "1  2000.0         CAN  ...  SH.MED.BEDS.ZS     3.400000\n",
              "2  2000.0         CAN  ...  SH.MED.PHYS.ZS     2.100000\n",
              "3  2000.0         FRA  ...     SH.XPD.PCAP  2209.243825\n",
              "4  2000.0         FRA  ...  SH.MED.BEDS.ZS     8.100000\n",
              "\n",
              "[5 rows x 6 columns]"
            ]
          },
          "metadata": {
            "tags": []
          },
          "execution_count": 29
        }
      ]
    },
    {
      "cell_type": "code",
      "metadata": {
        "id": "9DN0ua7Z1ZLM",
        "colab_type": "code",
        "outputId": "af82f7b7-6243-48cd-d6c6-2fd381013564",
        "colab": {
          "base_uri": "https://localhost:8080/",
          "height": 33
        }
      },
      "source": [
        "df_indicators_ye.shape"
      ],
      "execution_count": 30,
      "outputs": [
        {
          "output_type": "execute_result",
          "data": {
            "text/plain": [
              "(339, 6)"
            ]
          },
          "metadata": {
            "tags": []
          },
          "execution_count": 30
        }
      ]
    },
    {
      "cell_type": "markdown",
      "metadata": {
        "id": "SesFLsE_W1Ch",
        "colab_type": "text"
      },
      "source": [
        "## Data Cleaning"
      ]
    },
    {
      "cell_type": "code",
      "metadata": {
        "id": "q25Xyk8HYaeF",
        "colab_type": "code",
        "colab": {}
      },
      "source": [
        "df_indicators_ye.columns = df_indicators_ye.columns.str.strip().str.replace(' ', '_').str.replace('(', '').str.replace(')', '')"
      ],
      "execution_count": 0,
      "outputs": []
    },
    {
      "cell_type": "code",
      "metadata": {
        "id": "ER3zma79WdM5",
        "colab_type": "code",
        "outputId": "0b23da37-1338-44b4-f29d-c4015866e9d8",
        "colab": {
          "base_uri": "https://localhost:8080/",
          "height": 250
        }
      },
      "source": [
        "# Checking missing data\n",
        "df_indicators_ye.shape, list(df_indicators_ye), df_indicators_ye.isnull().sum()"
      ],
      "execution_count": 32,
      "outputs": [
        {
          "output_type": "execute_result",
          "data": {
            "text/plain": [
              "((339, 6),\n",
              " ['Year',\n",
              "  'CountryCode',\n",
              "  'IndicatorName',\n",
              "  'CountryName',\n",
              "  'IndicatorCode',\n",
              "  'Value'],\n",
              " Year             0\n",
              " CountryCode      0\n",
              " IndicatorName    0\n",
              " CountryName      0\n",
              " IndicatorCode    0\n",
              " Value            0\n",
              " dtype: int64)"
            ]
          },
          "metadata": {
            "tags": []
          },
          "execution_count": 32
        }
      ]
    },
    {
      "cell_type": "code",
      "metadata": {
        "id": "RVohHlJqWc9v",
        "colab_type": "code",
        "colab": {}
      },
      "source": [
        "df_indicators_ye = df_indicators_ye[['Year', 'CountryCode', 'CountryName', 'IndicatorName','IndicatorCode', 'Value']]"
      ],
      "execution_count": 0,
      "outputs": []
    },
    {
      "cell_type": "code",
      "metadata": {
        "id": "QINakcVQdXN3",
        "colab_type": "code",
        "outputId": "93376e66-f4bc-49c5-99c9-94606001d486",
        "colab": {
          "base_uri": "https://localhost:8080/",
          "height": 197
        }
      },
      "source": [
        "df_indicators_ye.head()"
      ],
      "execution_count": 34,
      "outputs": [
        {
          "output_type": "execute_result",
          "data": {
            "text/html": [
              "<div>\n",
              "<style scoped>\n",
              "    .dataframe tbody tr th:only-of-type {\n",
              "        vertical-align: middle;\n",
              "    }\n",
              "\n",
              "    .dataframe tbody tr th {\n",
              "        vertical-align: top;\n",
              "    }\n",
              "\n",
              "    .dataframe thead th {\n",
              "        text-align: right;\n",
              "    }\n",
              "</style>\n",
              "<table border=\"1\" class=\"dataframe\">\n",
              "  <thead>\n",
              "    <tr style=\"text-align: right;\">\n",
              "      <th></th>\n",
              "      <th>Year</th>\n",
              "      <th>CountryCode</th>\n",
              "      <th>CountryName</th>\n",
              "      <th>IndicatorName</th>\n",
              "      <th>IndicatorCode</th>\n",
              "      <th>Value</th>\n",
              "    </tr>\n",
              "  </thead>\n",
              "  <tbody>\n",
              "    <tr>\n",
              "      <th>0</th>\n",
              "      <td>2000.0</td>\n",
              "      <td>CAN</td>\n",
              "      <td>Canada</td>\n",
              "      <td>Health expenditure per capita (current US$)</td>\n",
              "      <td>SH.XPD.PCAP</td>\n",
              "      <td>2099.841406</td>\n",
              "    </tr>\n",
              "    <tr>\n",
              "      <th>1</th>\n",
              "      <td>2000.0</td>\n",
              "      <td>CAN</td>\n",
              "      <td>Canada</td>\n",
              "      <td>Hospital beds (per 1,000 people)</td>\n",
              "      <td>SH.MED.BEDS.ZS</td>\n",
              "      <td>3.400000</td>\n",
              "    </tr>\n",
              "    <tr>\n",
              "      <th>2</th>\n",
              "      <td>2000.0</td>\n",
              "      <td>CAN</td>\n",
              "      <td>Canada</td>\n",
              "      <td>Physicians (per 1,000 people)</td>\n",
              "      <td>SH.MED.PHYS.ZS</td>\n",
              "      <td>2.100000</td>\n",
              "    </tr>\n",
              "    <tr>\n",
              "      <th>3</th>\n",
              "      <td>2000.0</td>\n",
              "      <td>FRA</td>\n",
              "      <td>France</td>\n",
              "      <td>Health expenditure per capita (current US$)</td>\n",
              "      <td>SH.XPD.PCAP</td>\n",
              "      <td>2209.243825</td>\n",
              "    </tr>\n",
              "    <tr>\n",
              "      <th>4</th>\n",
              "      <td>2000.0</td>\n",
              "      <td>FRA</td>\n",
              "      <td>France</td>\n",
              "      <td>Hospital beds (per 1,000 people)</td>\n",
              "      <td>SH.MED.BEDS.ZS</td>\n",
              "      <td>8.100000</td>\n",
              "    </tr>\n",
              "  </tbody>\n",
              "</table>\n",
              "</div>"
            ],
            "text/plain": [
              "     Year CountryCode  ...   IndicatorCode        Value\n",
              "0  2000.0         CAN  ...     SH.XPD.PCAP  2099.841406\n",
              "1  2000.0         CAN  ...  SH.MED.BEDS.ZS     3.400000\n",
              "2  2000.0         CAN  ...  SH.MED.PHYS.ZS     2.100000\n",
              "3  2000.0         FRA  ...     SH.XPD.PCAP  2209.243825\n",
              "4  2000.0         FRA  ...  SH.MED.BEDS.ZS     8.100000\n",
              "\n",
              "[5 rows x 6 columns]"
            ]
          },
          "metadata": {
            "tags": []
          },
          "execution_count": 34
        }
      ]
    },
    {
      "cell_type": "code",
      "metadata": {
        "id": "uRtv_Lbi7yE1",
        "colab_type": "code",
        "colab": {}
      },
      "source": [
        "df_indicators_final = df_indicators_ye.copy()"
      ],
      "execution_count": 0,
      "outputs": []
    },
    {
      "cell_type": "markdown",
      "metadata": {
        "id": "ESx23npB5qiJ",
        "colab_type": "text"
      },
      "source": [
        "## KPI Insights + Data Visualization\n"
      ]
    },
    {
      "cell_type": "markdown",
      "metadata": {
        "id": "2rva3WtzziXL",
        "colab_type": "text"
      },
      "source": [
        "## Data Analysis on the Indicator 'Health expenditure per capita (current USD)'"
      ]
    },
    {
      "cell_type": "code",
      "metadata": {
        "id": "zzgNj5Q2Wc3l",
        "colab_type": "code",
        "colab": {}
      },
      "source": [
        "df_indicators_he = df_indicators_final.set_index('IndicatorName')"
      ],
      "execution_count": 0,
      "outputs": []
    },
    {
      "cell_type": "code",
      "metadata": {
        "id": "iL0l0FSTAcol",
        "colab_type": "code",
        "colab": {}
      },
      "source": [
        "df_indicators_he.drop(columns =['CountryCode','IndicatorCode'], inplace = True)"
      ],
      "execution_count": 0,
      "outputs": []
    },
    {
      "cell_type": "code",
      "metadata": {
        "id": "1CZnu_gDOEr3",
        "colab_type": "code",
        "colab": {}
      },
      "source": [
        "df_indicators_he['Year'] = df_indicators_he['Year'].astype(int)"
      ],
      "execution_count": 0,
      "outputs": []
    },
    {
      "cell_type": "code",
      "metadata": {
        "id": "V9W1fnfDWc0V",
        "colab_type": "code",
        "outputId": "a1caf9c0-60f6-45eb-91cc-877349060b83",
        "colab": {
          "base_uri": "https://localhost:8080/",
          "height": 227
        }
      },
      "source": [
        "df_indicators_he.head()"
      ],
      "execution_count": 39,
      "outputs": [
        {
          "output_type": "execute_result",
          "data": {
            "text/html": [
              "<div>\n",
              "<style scoped>\n",
              "    .dataframe tbody tr th:only-of-type {\n",
              "        vertical-align: middle;\n",
              "    }\n",
              "\n",
              "    .dataframe tbody tr th {\n",
              "        vertical-align: top;\n",
              "    }\n",
              "\n",
              "    .dataframe thead th {\n",
              "        text-align: right;\n",
              "    }\n",
              "</style>\n",
              "<table border=\"1\" class=\"dataframe\">\n",
              "  <thead>\n",
              "    <tr style=\"text-align: right;\">\n",
              "      <th></th>\n",
              "      <th>Year</th>\n",
              "      <th>CountryName</th>\n",
              "      <th>Value</th>\n",
              "    </tr>\n",
              "    <tr>\n",
              "      <th>IndicatorName</th>\n",
              "      <th></th>\n",
              "      <th></th>\n",
              "      <th></th>\n",
              "    </tr>\n",
              "  </thead>\n",
              "  <tbody>\n",
              "    <tr>\n",
              "      <th>Health expenditure per capita (current US$)</th>\n",
              "      <td>2000</td>\n",
              "      <td>Canada</td>\n",
              "      <td>2099.841406</td>\n",
              "    </tr>\n",
              "    <tr>\n",
              "      <th>Hospital beds (per 1,000 people)</th>\n",
              "      <td>2000</td>\n",
              "      <td>Canada</td>\n",
              "      <td>3.400000</td>\n",
              "    </tr>\n",
              "    <tr>\n",
              "      <th>Physicians (per 1,000 people)</th>\n",
              "      <td>2000</td>\n",
              "      <td>Canada</td>\n",
              "      <td>2.100000</td>\n",
              "    </tr>\n",
              "    <tr>\n",
              "      <th>Health expenditure per capita (current US$)</th>\n",
              "      <td>2000</td>\n",
              "      <td>France</td>\n",
              "      <td>2209.243825</td>\n",
              "    </tr>\n",
              "    <tr>\n",
              "      <th>Hospital beds (per 1,000 people)</th>\n",
              "      <td>2000</td>\n",
              "      <td>France</td>\n",
              "      <td>8.100000</td>\n",
              "    </tr>\n",
              "  </tbody>\n",
              "</table>\n",
              "</div>"
            ],
            "text/plain": [
              "                                             Year CountryName        Value\n",
              "IndicatorName                                                             \n",
              "Health expenditure per capita (current US$)  2000      Canada  2099.841406\n",
              "Hospital beds (per 1,000 people)             2000      Canada     3.400000\n",
              "Physicians (per 1,000 people)                2000      Canada     2.100000\n",
              "Health expenditure per capita (current US$)  2000      France  2209.243825\n",
              "Hospital beds (per 1,000 people)             2000      France     8.100000"
            ]
          },
          "metadata": {
            "tags": []
          },
          "execution_count": 39
        }
      ]
    },
    {
      "cell_type": "code",
      "metadata": {
        "id": "-ydvHp1h_L6x",
        "colab_type": "code",
        "colab": {}
      },
      "source": [
        "df_indicators_he = df_indicators_he.loc[ ['Health expenditure per capita (current US$)'] , : ]"
      ],
      "execution_count": 0,
      "outputs": []
    },
    {
      "cell_type": "code",
      "metadata": {
        "id": "goitc3BP_3_U",
        "colab_type": "code",
        "colab": {}
      },
      "source": [
        "df_indicators_he = df_indicators_he.reset_index('IndicatorName')"
      ],
      "execution_count": 0,
      "outputs": []
    },
    {
      "cell_type": "code",
      "metadata": {
        "id": "x6M9GjJ3BFBt",
        "colab_type": "code",
        "colab": {}
      },
      "source": [
        "df_indicators_he_plt = pd.pivot_table(df_indicators_he, values ='Value', index =['Year'], \n",
        "                         columns = ['CountryName'])"
      ],
      "execution_count": 0,
      "outputs": []
    },
    {
      "cell_type": "code",
      "metadata": {
        "id": "DVu-60-MPLrz",
        "colab_type": "code",
        "colab": {}
      },
      "source": [
        "df_indicators_he_plt = df_indicators_he_plt.astype(int)"
      ],
      "execution_count": 0,
      "outputs": []
    },
    {
      "cell_type": "code",
      "metadata": {
        "id": "W3eVFTYi9W-o",
        "colab_type": "code",
        "outputId": "9eccc9ca-4e39-4f4f-ad6c-225e6b4dd7ec",
        "colab": {
          "base_uri": "https://localhost:8080/",
          "height": 621
        }
      },
      "source": [
        "fig, (ax1) = plt.subplots(1, figsize=(15,10))\n",
        "df_indicators_he_plt.plot.bar(ax=ax1)\n",
        "ax1.set_xticklabels(ax1.get_xticklabels(), rotation=0)\n",
        "ax1.set_title('Health expenditure per capita')\n",
        "ax1.set_ylabel('current US$')\n",
        "plt.show()"
      ],
      "execution_count": 44,
      "outputs": [
        {
          "output_type": "display_data",
          "data": {
            "image/png": "[encoded data removed]",
            "text/plain": [
              "<Figure size 1080x720 with 1 Axes>"
            ]
          },
          "metadata": {
            "tags": []
          }
        }
      ]
    },
    {
      "cell_type": "code",
      "metadata": {
        "id": "S9ZFdORzvSJK",
        "colab_type": "code",
        "colab": {}
      },
      "source": [
        "df_indicators_he_plt_co = pd.pivot_table(df_indicators_he, values ='Value', index =['CountryName'], \n",
        "                         columns = ['Year'])"
      ],
      "execution_count": 0,
      "outputs": []
    },
    {
      "cell_type": "code",
      "metadata": {
        "id": "py4XRAbFv0Br",
        "colab_type": "code",
        "colab": {}
      },
      "source": [
        "df_indicators_he_plt_co = df_indicators_he_plt_co.astype(int)"
      ],
      "execution_count": 0,
      "outputs": []
    },
    {
      "cell_type": "code",
      "metadata": {
        "id": "ensjHO_HwdQy",
        "colab_type": "code",
        "colab": {}
      },
      "source": [
        "df_indicators_he_plt_co['Total'] = df_indicators_he_plt_co.sum(axis=1)\n",
        "df_indicators_he_plt_co.sort_values('Total', axis = 0, ascending = False, \n",
        "                 inplace = True, na_position ='last')"
      ],
      "execution_count": 0,
      "outputs": []
    },
    {
      "cell_type": "code",
      "metadata": {
        "id": "phP5xME7DeMF",
        "colab_type": "code",
        "outputId": "cfe5c616-4655-4455-cd9c-9c0274ccb18a",
        "colab": {
          "base_uri": "https://localhost:8080/",
          "height": 467
        }
      },
      "source": [
        "df_indicators_he_plt_co.head(13)"
      ],
      "execution_count": 48,
      "outputs": [
        {
          "output_type": "execute_result",
          "data": {
            "text/html": [
              "<div>\n",
              "<style scoped>\n",
              "    .dataframe tbody tr th:only-of-type {\n",
              "        vertical-align: middle;\n",
              "    }\n",
              "\n",
              "    .dataframe tbody tr th {\n",
              "        vertical-align: top;\n",
              "    }\n",
              "\n",
              "    .dataframe thead th {\n",
              "        text-align: right;\n",
              "    }\n",
              "</style>\n",
              "<table border=\"1\" class=\"dataframe\">\n",
              "  <thead>\n",
              "    <tr style=\"text-align: right;\">\n",
              "      <th>Year</th>\n",
              "      <th>2000</th>\n",
              "      <th>2001</th>\n",
              "      <th>2002</th>\n",
              "      <th>2003</th>\n",
              "      <th>2004</th>\n",
              "      <th>2005</th>\n",
              "      <th>2006</th>\n",
              "      <th>2007</th>\n",
              "      <th>2008</th>\n",
              "      <th>2009</th>\n",
              "      <th>2010</th>\n",
              "      <th>Total</th>\n",
              "    </tr>\n",
              "    <tr>\n",
              "      <th>CountryName</th>\n",
              "      <th></th>\n",
              "      <th></th>\n",
              "      <th></th>\n",
              "      <th></th>\n",
              "      <th></th>\n",
              "      <th></th>\n",
              "      <th></th>\n",
              "      <th></th>\n",
              "      <th></th>\n",
              "      <th></th>\n",
              "      <th></th>\n",
              "      <th></th>\n",
              "    </tr>\n",
              "  </thead>\n",
              "  <tbody>\n",
              "    <tr>\n",
              "      <th>United States</th>\n",
              "      <td>4817</td>\n",
              "      <td>5167</td>\n",
              "      <td>5607</td>\n",
              "      <td>6030</td>\n",
              "      <td>6401</td>\n",
              "      <td>6775</td>\n",
              "      <td>7155</td>\n",
              "      <td>7538</td>\n",
              "      <td>7825</td>\n",
              "      <td>8054</td>\n",
              "      <td>8298</td>\n",
              "      <td>73667</td>\n",
              "    </tr>\n",
              "    <tr>\n",
              "      <th>Norway</th>\n",
              "      <td>3164</td>\n",
              "      <td>3340</td>\n",
              "      <td>4153</td>\n",
              "      <td>4951</td>\n",
              "      <td>5452</td>\n",
              "      <td>5961</td>\n",
              "      <td>6276</td>\n",
              "      <td>7351</td>\n",
              "      <td>8193</td>\n",
              "      <td>7637</td>\n",
              "      <td>8164</td>\n",
              "      <td>64642</td>\n",
              "    </tr>\n",
              "    <tr>\n",
              "      <th>Switzerland</th>\n",
              "      <td>3541</td>\n",
              "      <td>3748</td>\n",
              "      <td>4190</td>\n",
              "      <td>5002</td>\n",
              "      <td>5570</td>\n",
              "      <td>5636</td>\n",
              "      <td>5642</td>\n",
              "      <td>6126</td>\n",
              "      <td>7104</td>\n",
              "      <td>7277</td>\n",
              "      <td>7697</td>\n",
              "      <td>61533</td>\n",
              "    </tr>\n",
              "    <tr>\n",
              "      <th>Denmark</th>\n",
              "      <td>2612</td>\n",
              "      <td>2730</td>\n",
              "      <td>3023</td>\n",
              "      <td>3756</td>\n",
              "      <td>4387</td>\n",
              "      <td>4652</td>\n",
              "      <td>5017</td>\n",
              "      <td>5709</td>\n",
              "      <td>6395</td>\n",
              "      <td>6464</td>\n",
              "      <td>6266</td>\n",
              "      <td>51011</td>\n",
              "    </tr>\n",
              "    <tr>\n",
              "      <th>Netherlands</th>\n",
              "      <td>1931</td>\n",
              "      <td>2079</td>\n",
              "      <td>2411</td>\n",
              "      <td>3248</td>\n",
              "      <td>3739</td>\n",
              "      <td>4261</td>\n",
              "      <td>4458</td>\n",
              "      <td>5149</td>\n",
              "      <td>5834</td>\n",
              "      <td>5739</td>\n",
              "      <td>5695</td>\n",
              "      <td>44544</td>\n",
              "    </tr>\n",
              "    <tr>\n",
              "      <th>Sweden</th>\n",
              "      <td>2282</td>\n",
              "      <td>2267</td>\n",
              "      <td>2599</td>\n",
              "      <td>3277</td>\n",
              "      <td>3666</td>\n",
              "      <td>3726</td>\n",
              "      <td>3947</td>\n",
              "      <td>4525</td>\n",
              "      <td>4886</td>\n",
              "      <td>4357</td>\n",
              "      <td>4694</td>\n",
              "      <td>40226</td>\n",
              "    </tr>\n",
              "    <tr>\n",
              "      <th>Germany</th>\n",
              "      <td>2386</td>\n",
              "      <td>2401</td>\n",
              "      <td>2610</td>\n",
              "      <td>3206</td>\n",
              "      <td>3524</td>\n",
              "      <td>3624</td>\n",
              "      <td>3745</td>\n",
              "      <td>4230</td>\n",
              "      <td>4717</td>\n",
              "      <td>4727</td>\n",
              "      <td>4668</td>\n",
              "      <td>39838</td>\n",
              "    </tr>\n",
              "    <tr>\n",
              "      <th>France</th>\n",
              "      <td>2209</td>\n",
              "      <td>2241</td>\n",
              "      <td>2496</td>\n",
              "      <td>3115</td>\n",
              "      <td>3592</td>\n",
              "      <td>3721</td>\n",
              "      <td>3871</td>\n",
              "      <td>4371</td>\n",
              "      <td>4827</td>\n",
              "      <td>4722</td>\n",
              "      <td>4583</td>\n",
              "      <td>39748</td>\n",
              "    </tr>\n",
              "    <tr>\n",
              "      <th>Canada</th>\n",
              "      <td>2099</td>\n",
              "      <td>2162</td>\n",
              "      <td>2262</td>\n",
              "      <td>2690</td>\n",
              "      <td>3062</td>\n",
              "      <td>3474</td>\n",
              "      <td>3931</td>\n",
              "      <td>4364</td>\n",
              "      <td>4662</td>\n",
              "      <td>4561</td>\n",
              "      <td>5305</td>\n",
              "      <td>38572</td>\n",
              "    </tr>\n",
              "    <tr>\n",
              "      <th>Belgium</th>\n",
              "      <td>1845</td>\n",
              "      <td>1878</td>\n",
              "      <td>2075</td>\n",
              "      <td>2903</td>\n",
              "      <td>3366</td>\n",
              "      <td>3485</td>\n",
              "      <td>3645</td>\n",
              "      <td>4179</td>\n",
              "      <td>4729</td>\n",
              "      <td>4689</td>\n",
              "      <td>4589</td>\n",
              "      <td>37383</td>\n",
              "    </tr>\n",
              "    <tr>\n",
              "      <th>Finland</th>\n",
              "      <td>1700</td>\n",
              "      <td>1786</td>\n",
              "      <td>2032</td>\n",
              "      <td>2571</td>\n",
              "      <td>2973</td>\n",
              "      <td>3151</td>\n",
              "      <td>3302</td>\n",
              "      <td>3752</td>\n",
              "      <td>4262</td>\n",
              "      <td>4122</td>\n",
              "      <td>3976</td>\n",
              "      <td>33627</td>\n",
              "    </tr>\n",
              "    <tr>\n",
              "      <th>Japan</th>\n",
              "      <td>2865</td>\n",
              "      <td>2550</td>\n",
              "      <td>2453</td>\n",
              "      <td>2691</td>\n",
              "      <td>2912</td>\n",
              "      <td>2927</td>\n",
              "      <td>2792</td>\n",
              "      <td>2800</td>\n",
              "      <td>3257</td>\n",
              "      <td>3746</td>\n",
              "      <td>4114</td>\n",
              "      <td>33107</td>\n",
              "    </tr>\n",
              "    <tr>\n",
              "      <th>United Kingdom</th>\n",
              "      <td>1761</td>\n",
              "      <td>1819</td>\n",
              "      <td>2064</td>\n",
              "      <td>2449</td>\n",
              "      <td>2938</td>\n",
              "      <td>3135</td>\n",
              "      <td>3394</td>\n",
              "      <td>3916</td>\n",
              "      <td>3833</td>\n",
              "      <td>3462</td>\n",
              "      <td>3442</td>\n",
              "      <td>32213</td>\n",
              "    </tr>\n",
              "  </tbody>\n",
              "</table>\n",
              "</div>"
            ],
            "text/plain": [
              "Year            2000  2001  2002  2003  2004  ...  2007  2008  2009  2010  Total\n",
              "CountryName                                   ...                               \n",
              "United States   4817  5167  5607  6030  6401  ...  7538  7825  8054  8298  73667\n",
              "Norway          3164  3340  4153  4951  5452  ...  7351  8193  7637  8164  64642\n",
              "Switzerland     3541  3748  4190  5002  5570  ...  6126  7104  7277  7697  61533\n",
              "Denmark         2612  2730  3023  3756  4387  ...  5709  6395  6464  6266  51011\n",
              "Netherlands     1931  2079  2411  3248  3739  ...  5149  5834  5739  5695  44544\n",
              "Sweden          2282  2267  2599  3277  3666  ...  4525  4886  4357  4694  40226\n",
              "Germany         2386  2401  2610  3206  3524  ...  4230  4717  4727  4668  39838\n",
              "France          2209  2241  2496  3115  3592  ...  4371  4827  4722  4583  39748\n",
              "Canada          2099  2162  2262  2690  3062  ...  4364  4662  4561  5305  38572\n",
              "Belgium         1845  1878  2075  2903  3366  ...  4179  4729  4689  4589  37383\n",
              "Finland         1700  1786  2032  2571  2973  ...  3752  4262  4122  3976  33627\n",
              "Japan           2865  2550  2453  2691  2912  ...  2800  3257  3746  4114  33107\n",
              "United Kingdom  1761  1819  2064  2449  2938  ...  3916  3833  3462  3442  32213\n",
              "\n",
              "[13 rows x 12 columns]"
            ]
          },
          "metadata": {
            "tags": []
          },
          "execution_count": 48
        }
      ]
    },
    {
      "cell_type": "code",
      "metadata": {
        "id": "3N5wgkcrnEsh",
        "colab_type": "code",
        "colab": {}
      },
      "source": [
        "df_indicators_he_plt_co.to_csv(r\"/content/drive/My Drive/Colab Notebooks/Data/PROJ/2019_09_28_pd_np_mpl/Data/df_indicators_he_plt_co.csv\", sep = ',')"
      ],
      "execution_count": 0,
      "outputs": []
    },
    {
      "cell_type": "markdown",
      "metadata": {
        "id": "C07k7xzvw-oW",
        "colab_type": "text"
      },
      "source": [
        "### United States, Norway and Switzerland had the highest Health Expenditure per capita. \n",
        "- As expected the Health Expenditure per capita has been continuously increasing during the time range."
      ]
    },
    {
      "cell_type": "code",
      "metadata": {
        "id": "1EnwcC4iugNx",
        "colab_type": "code",
        "colab": {
          "base_uri": "https://localhost:8080/",
          "height": 543
        },
        "outputId": "b8a80cc7-a0ee-42be-a253-45d431940e58"
      },
      "source": [
        "%%HTML\n",
        "<iframe src='https://public.flourish.studio/visualisation/747494/embed' frameborder='0' scrolling='no' style='width:85%;height:500px;'></iframe><div style='width:100%!;margin-top:4px!important;text-align:right!important;'><a class='flourish-credit' href='https://public.flourish.studio/visualisation/747494/?utm_source=embed&utm_campaign=visualisation/747494' target='_top' style='text-decoration:none!important'><img alt='Made with Flourish' src='https://public.flourish.studio/resources/made_with_flourish.svg' style='width:105px!important;height:16px!important;border:none!important;margin:0!important;'> </a></div>"
      ],
      "execution_count": 103,
      "outputs": [
        {
          "output_type": "display_data",
          "data": {
            "text/html": [
              "<iframe src='https://public.flourish.studio/visualisation/747494/embed' frameborder='0' scrolling='no' style='width:85%;height:500px;'></iframe><div style='width:100%!;margin-top:4px!important;text-align:right!important;'><a class='flourish-credit' href='https://public.flourish.studio/visualisation/747494/?utm_source=embed&utm_campaign=visualisation/747494' target='_top' style='text-decoration:none!important'><img alt='Made with Flourish' src='https://public.flourish.studio/resources/made_with_flourish.svg' style='width:105px!important;height:16px!important;border:none!important;margin:0!important;'> </a></div>"
            ],
            "text/plain": [
              "<IPython.core.display.HTML object>"
            ]
          },
          "metadata": {
            "tags": []
          }
        }
      ]
    },
    {
      "cell_type": "markdown",
      "metadata": {
        "id": "DZk9IuoNz8AW",
        "colab_type": "text"
      },
      "source": [
        "## Data Analysis on the Indicator 'Hospital beds (per 1,000 people)'"
      ]
    },
    {
      "cell_type": "code",
      "metadata": {
        "colab_type": "code",
        "id": "Zi1KE7kF0sFZ",
        "colab": {}
      },
      "source": [
        "df_indicators_hb = df_indicators_final.set_index('IndicatorName')"
      ],
      "execution_count": 0,
      "outputs": []
    },
    {
      "cell_type": "code",
      "metadata": {
        "colab_type": "code",
        "id": "T-gW7rDx0sFg",
        "colab": {}
      },
      "source": [
        "df_indicators_hb.drop(columns =['CountryCode','IndicatorCode'], inplace = True)"
      ],
      "execution_count": 0,
      "outputs": []
    },
    {
      "cell_type": "code",
      "metadata": {
        "colab_type": "code",
        "id": "6-lILCHa0sFk",
        "colab": {}
      },
      "source": [
        "df_indicators_hb['Year'] = df_indicators_hb['Year'].astype(int)"
      ],
      "execution_count": 0,
      "outputs": []
    },
    {
      "cell_type": "code",
      "metadata": {
        "colab_type": "code",
        "outputId": "4b678613-9319-4322-c701-f7ff63f8e892",
        "id": "WBIdaxtg0sFp",
        "colab": {
          "base_uri": "https://localhost:8080/",
          "height": 227
        }
      },
      "source": [
        "df_indicators_hb.head()"
      ],
      "execution_count": 54,
      "outputs": [
        {
          "output_type": "execute_result",
          "data": {
            "text/html": [
              "<div>\n",
              "<style scoped>\n",
              "    .dataframe tbody tr th:only-of-type {\n",
              "        vertical-align: middle;\n",
              "    }\n",
              "\n",
              "    .dataframe tbody tr th {\n",
              "        vertical-align: top;\n",
              "    }\n",
              "\n",
              "    .dataframe thead th {\n",
              "        text-align: right;\n",
              "    }\n",
              "</style>\n",
              "<table border=\"1\" class=\"dataframe\">\n",
              "  <thead>\n",
              "    <tr style=\"text-align: right;\">\n",
              "      <th></th>\n",
              "      <th>Year</th>\n",
              "      <th>CountryName</th>\n",
              "      <th>Value</th>\n",
              "    </tr>\n",
              "    <tr>\n",
              "      <th>IndicatorName</th>\n",
              "      <th></th>\n",
              "      <th></th>\n",
              "      <th></th>\n",
              "    </tr>\n",
              "  </thead>\n",
              "  <tbody>\n",
              "    <tr>\n",
              "      <th>Health expenditure per capita (current US$)</th>\n",
              "      <td>2000</td>\n",
              "      <td>Canada</td>\n",
              "      <td>2099.841406</td>\n",
              "    </tr>\n",
              "    <tr>\n",
              "      <th>Hospital beds (per 1,000 people)</th>\n",
              "      <td>2000</td>\n",
              "      <td>Canada</td>\n",
              "      <td>3.400000</td>\n",
              "    </tr>\n",
              "    <tr>\n",
              "      <th>Physicians (per 1,000 people)</th>\n",
              "      <td>2000</td>\n",
              "      <td>Canada</td>\n",
              "      <td>2.100000</td>\n",
              "    </tr>\n",
              "    <tr>\n",
              "      <th>Health expenditure per capita (current US$)</th>\n",
              "      <td>2000</td>\n",
              "      <td>France</td>\n",
              "      <td>2209.243825</td>\n",
              "    </tr>\n",
              "    <tr>\n",
              "      <th>Hospital beds (per 1,000 people)</th>\n",
              "      <td>2000</td>\n",
              "      <td>France</td>\n",
              "      <td>8.100000</td>\n",
              "    </tr>\n",
              "  </tbody>\n",
              "</table>\n",
              "</div>"
            ],
            "text/plain": [
              "                                             Year CountryName        Value\n",
              "IndicatorName                                                             \n",
              "Health expenditure per capita (current US$)  2000      Canada  2099.841406\n",
              "Hospital beds (per 1,000 people)             2000      Canada     3.400000\n",
              "Physicians (per 1,000 people)                2000      Canada     2.100000\n",
              "Health expenditure per capita (current US$)  2000      France  2209.243825\n",
              "Hospital beds (per 1,000 people)             2000      France     8.100000"
            ]
          },
          "metadata": {
            "tags": []
          },
          "execution_count": 54
        }
      ]
    },
    {
      "cell_type": "code",
      "metadata": {
        "colab_type": "code",
        "id": "NdEm0OEF0sFv",
        "colab": {}
      },
      "source": [
        "df_indicators_hb = df_indicators_hb.loc[ ['Hospital beds (per 1,000 people)'] , : ]"
      ],
      "execution_count": 0,
      "outputs": []
    },
    {
      "cell_type": "code",
      "metadata": {
        "colab_type": "code",
        "id": "fVXsSrdd0sFz",
        "colab": {}
      },
      "source": [
        "df_indicators_hb = df_indicators_hb.reset_index('IndicatorName')"
      ],
      "execution_count": 0,
      "outputs": []
    },
    {
      "cell_type": "code",
      "metadata": {
        "colab_type": "code",
        "id": "bLsTiLed0sF2",
        "colab": {}
      },
      "source": [
        "df_indicators_hb_plt = pd.pivot_table(df_indicators_hb, values ='Value', index =['Year'], \n",
        "                         columns = ['CountryName'])"
      ],
      "execution_count": 0,
      "outputs": []
    },
    {
      "cell_type": "code",
      "metadata": {
        "id": "H1cOZeiz19Pl",
        "colab_type": "code",
        "colab": {}
      },
      "source": [
        "df_indicators_hb_plt.fillna(0, inplace = True) "
      ],
      "execution_count": 0,
      "outputs": []
    },
    {
      "cell_type": "code",
      "metadata": {
        "colab_type": "code",
        "id": "uZvtprV40sF4",
        "colab": {}
      },
      "source": [
        "df_indicators_hb_plt = df_indicators_hb_plt.astype(int)"
      ],
      "execution_count": 0,
      "outputs": []
    },
    {
      "cell_type": "code",
      "metadata": {
        "id": "VI0VJUssEs1a",
        "colab_type": "code",
        "colab": {
          "base_uri": "https://localhost:8080/",
          "height": 644
        },
        "outputId": "d8a685b0-bae7-4c71-b76a-d0be626099a3"
      },
      "source": [
        "%%HTML\n",
        "<div class='tableauPlaceholder' id='viz1570483264587' style='position: relative'><noscript><a href='#'><img alt=' ' src='https:&#47;&#47;public.tableau.com&#47;static&#47;images&#47;df&#47;df_indicators_hb_plt_to&#47;Dashboard1&#47;1_rss.png' style='border: none' /></a></noscript><object class='tableauViz'  style='display:none;'><param name='host_url' value='https%3A%2F%2Fpublic.tableau.com%2F' /> <param name='embed_code_version' value='3' /> <param name='site_root' value='' /><param name='name' value='df_indicators_hb_plt_to&#47;Dashboard1' /><param name='tabs' value='no' /><param name='toolbar' value='yes' /><param name='static_image' value='https:&#47;&#47;public.tableau.com&#47;static&#47;images&#47;df&#47;df_indicators_hb_plt_to&#47;Dashboard1&#47;1.png' /> <param name='animate_transition' value='yes' /><param name='display_static_image' value='yes' /><param name='display_spinner' value='yes' /><param name='display_overlay' value='yes' /><param name='display_count' value='yes' /><param name='filter' value='publish=yes' /></object></div>                <script type='text/javascript'>                    var divElement = document.getElementById('viz1570483264587');                    var vizElement = divElement.getElementsByTagName('object')[0];                    if ( divElement.offsetWidth > 800 ) { vizElement.style.width='800px';vizElement.style.height='627px';} else if ( divElement.offsetWidth > 500 ) { vizElement.style.width='800px';vizElement.style.height='627px';} else { vizElement.style.width='100%';vizElement.style.height='727px';}                     var scriptElement = document.createElement('script');                    scriptElement.src = 'https://public.tableau.com/javascripts/api/viz_v1.js';                    vizElement.parentNode.insertBefore(scriptElement, vizElement);                </script>"
      ],
      "execution_count": 117,
      "outputs": [
        {
          "output_type": "display_data",
          "data": {
            "text/html": [
              "<div class='tableauPlaceholder' id='viz1570483264587' style='position: relative'><noscript><a href='#'><img alt=' ' src='https:&#47;&#47;public.tableau.com&#47;static&#47;images&#47;df&#47;df_indicators_hb_plt_to&#47;Dashboard1&#47;1_rss.png' style='border: none' /></a></noscript><object class='tableauViz'  style='display:none;'><param name='host_url' value='https%3A%2F%2Fpublic.tableau.com%2F' /> <param name='embed_code_version' value='3' /> <param name='site_root' value='' /><param name='name' value='df_indicators_hb_plt_to&#47;Dashboard1' /><param name='tabs' value='no' /><param name='toolbar' value='yes' /><param name='static_image' value='https:&#47;&#47;public.tableau.com&#47;static&#47;images&#47;df&#47;df_indicators_hb_plt_to&#47;Dashboard1&#47;1.png' /> <param name='animate_transition' value='yes' /><param name='display_static_image' value='yes' /><param name='display_spinner' value='yes' /><param name='display_overlay' value='yes' /><param name='display_count' value='yes' /><param name='filter' value='publish=yes' /></object></div>                <script type='text/javascript'>                    var divElement = document.getElementById('viz1570483264587');                    var vizElement = divElement.getElementsByTagName('object')[0];                    if ( divElement.offsetWidth > 800 ) { vizElement.style.width='800px';vizElement.style.height='627px';} else if ( divElement.offsetWidth > 500 ) { vizElement.style.width='800px';vizElement.style.height='627px';} else { vizElement.style.width='100%';vizElement.style.height='727px';}                     var scriptElement = document.createElement('script');                    scriptElement.src = 'https://public.tableau.com/javascripts/api/viz_v1.js';                    vizElement.parentNode.insertBefore(scriptElement, vizElement);                </script>"
            ],
            "text/plain": [
              "<IPython.core.display.HTML object>"
            ]
          },
          "metadata": {
            "tags": []
          }
        }
      ]
    },
    {
      "cell_type": "code",
      "metadata": {
        "colab_type": "code",
        "id": "NhmJWiO-0sF7",
        "colab": {}
      },
      "source": [
        "df_indicators_hb_plt_to = pd.pivot_table(df_indicators_hb, values ='Value', index =['CountryName'], \n",
        "                         columns = ['Year'])"
      ],
      "execution_count": 0,
      "outputs": []
    },
    {
      "cell_type": "code",
      "metadata": {
        "colab_type": "code",
        "id": "IAgZYFh40sGA",
        "colab": {}
      },
      "source": [
        "df_indicators_hb_plt_to['Max'] = df_indicators_hb_plt_to.max(axis=1)\n",
        "df_indicators_hb_plt_to.sort_values('Max', axis = 0, ascending = False, \n",
        "                 inplace = True, na_position ='last')"
      ],
      "execution_count": 0,
      "outputs": []
    },
    {
      "cell_type": "code",
      "metadata": {
        "id": "lz-8Dvvx4k9L",
        "colab_type": "code",
        "colab": {}
      },
      "source": [
        "df_indicators_hb_plt_to.fillna(0, inplace = True) "
      ],
      "execution_count": 0,
      "outputs": []
    },
    {
      "cell_type": "code",
      "metadata": {
        "id": "UYLEf8gC5Hyh",
        "colab_type": "code",
        "colab": {}
      },
      "source": [
        "df_indicators_hb_plt_to = df_indicators_hb_plt_to.astype(int)"
      ],
      "execution_count": 0,
      "outputs": []
    },
    {
      "cell_type": "code",
      "metadata": {
        "colab_type": "code",
        "outputId": "d1cca603-b218-49ca-84f3-9a0ac2ecf97c",
        "id": "qiF03OoJ0sGC",
        "colab": {
          "base_uri": "https://localhost:8080/",
          "height": 467
        }
      },
      "source": [
        "df_indicators_hb_plt_to.head(13)"
      ],
      "execution_count": 66,
      "outputs": [
        {
          "output_type": "execute_result",
          "data": {
            "text/html": [
              "<div>\n",
              "<style scoped>\n",
              "    .dataframe tbody tr th:only-of-type {\n",
              "        vertical-align: middle;\n",
              "    }\n",
              "\n",
              "    .dataframe tbody tr th {\n",
              "        vertical-align: top;\n",
              "    }\n",
              "\n",
              "    .dataframe thead th {\n",
              "        text-align: right;\n",
              "    }\n",
              "</style>\n",
              "<table border=\"1\" class=\"dataframe\">\n",
              "  <thead>\n",
              "    <tr style=\"text-align: right;\">\n",
              "      <th>Year</th>\n",
              "      <th>2000</th>\n",
              "      <th>2001</th>\n",
              "      <th>2002</th>\n",
              "      <th>2003</th>\n",
              "      <th>2004</th>\n",
              "      <th>2005</th>\n",
              "      <th>2006</th>\n",
              "      <th>2007</th>\n",
              "      <th>2008</th>\n",
              "      <th>2009</th>\n",
              "      <th>2010</th>\n",
              "      <th>Max</th>\n",
              "    </tr>\n",
              "    <tr>\n",
              "      <th>CountryName</th>\n",
              "      <th></th>\n",
              "      <th></th>\n",
              "      <th></th>\n",
              "      <th></th>\n",
              "      <th></th>\n",
              "      <th></th>\n",
              "      <th></th>\n",
              "      <th></th>\n",
              "      <th></th>\n",
              "      <th></th>\n",
              "      <th></th>\n",
              "      <th></th>\n",
              "    </tr>\n",
              "  </thead>\n",
              "  <tbody>\n",
              "    <tr>\n",
              "      <th>Japan</th>\n",
              "      <td>14</td>\n",
              "      <td>12</td>\n",
              "      <td>14</td>\n",
              "      <td>14</td>\n",
              "      <td>13</td>\n",
              "      <td>14</td>\n",
              "      <td>13</td>\n",
              "      <td>0</td>\n",
              "      <td>13</td>\n",
              "      <td>13</td>\n",
              "      <td>0</td>\n",
              "      <td>14</td>\n",
              "    </tr>\n",
              "    <tr>\n",
              "      <th>Germany</th>\n",
              "      <td>9</td>\n",
              "      <td>9</td>\n",
              "      <td>8</td>\n",
              "      <td>0</td>\n",
              "      <td>0</td>\n",
              "      <td>8</td>\n",
              "      <td>8</td>\n",
              "      <td>0</td>\n",
              "      <td>8</td>\n",
              "      <td>8</td>\n",
              "      <td>8</td>\n",
              "      <td>9</td>\n",
              "    </tr>\n",
              "    <tr>\n",
              "      <th>France</th>\n",
              "      <td>8</td>\n",
              "      <td>8</td>\n",
              "      <td>7</td>\n",
              "      <td>7</td>\n",
              "      <td>7</td>\n",
              "      <td>7</td>\n",
              "      <td>7</td>\n",
              "      <td>0</td>\n",
              "      <td>7</td>\n",
              "      <td>6</td>\n",
              "      <td>6</td>\n",
              "      <td>8</td>\n",
              "    </tr>\n",
              "    <tr>\n",
              "      <th>Finland</th>\n",
              "      <td>7</td>\n",
              "      <td>0</td>\n",
              "      <td>0</td>\n",
              "      <td>7</td>\n",
              "      <td>0</td>\n",
              "      <td>7</td>\n",
              "      <td>7</td>\n",
              "      <td>6</td>\n",
              "      <td>6</td>\n",
              "      <td>6</td>\n",
              "      <td>5</td>\n",
              "      <td>7</td>\n",
              "    </tr>\n",
              "    <tr>\n",
              "      <th>Belgium</th>\n",
              "      <td>7</td>\n",
              "      <td>6</td>\n",
              "      <td>6</td>\n",
              "      <td>0</td>\n",
              "      <td>0</td>\n",
              "      <td>5</td>\n",
              "      <td>5</td>\n",
              "      <td>5</td>\n",
              "      <td>0</td>\n",
              "      <td>6</td>\n",
              "      <td>6</td>\n",
              "      <td>7</td>\n",
              "    </tr>\n",
              "    <tr>\n",
              "      <th>Switzerland</th>\n",
              "      <td>0</td>\n",
              "      <td>0</td>\n",
              "      <td>6</td>\n",
              "      <td>0</td>\n",
              "      <td>5</td>\n",
              "      <td>5</td>\n",
              "      <td>0</td>\n",
              "      <td>0</td>\n",
              "      <td>5</td>\n",
              "      <td>5</td>\n",
              "      <td>4</td>\n",
              "      <td>6</td>\n",
              "    </tr>\n",
              "    <tr>\n",
              "      <th>Netherlands</th>\n",
              "      <td>4</td>\n",
              "      <td>4</td>\n",
              "      <td>0</td>\n",
              "      <td>5</td>\n",
              "      <td>0</td>\n",
              "      <td>0</td>\n",
              "      <td>0</td>\n",
              "      <td>4</td>\n",
              "      <td>4</td>\n",
              "      <td>4</td>\n",
              "      <td>0</td>\n",
              "      <td>5</td>\n",
              "    </tr>\n",
              "    <tr>\n",
              "      <th>Denmark</th>\n",
              "      <td>4</td>\n",
              "      <td>4</td>\n",
              "      <td>4</td>\n",
              "      <td>4</td>\n",
              "      <td>3</td>\n",
              "      <td>0</td>\n",
              "      <td>0</td>\n",
              "      <td>3</td>\n",
              "      <td>3</td>\n",
              "      <td>3</td>\n",
              "      <td>3</td>\n",
              "      <td>4</td>\n",
              "    </tr>\n",
              "    <tr>\n",
              "      <th>Norway</th>\n",
              "      <td>3</td>\n",
              "      <td>0</td>\n",
              "      <td>0</td>\n",
              "      <td>0</td>\n",
              "      <td>0</td>\n",
              "      <td>4</td>\n",
              "      <td>4</td>\n",
              "      <td>3</td>\n",
              "      <td>3</td>\n",
              "      <td>3</td>\n",
              "      <td>3</td>\n",
              "      <td>4</td>\n",
              "    </tr>\n",
              "    <tr>\n",
              "      <th>United Kingdom</th>\n",
              "      <td>4</td>\n",
              "      <td>4</td>\n",
              "      <td>4</td>\n",
              "      <td>4</td>\n",
              "      <td>3</td>\n",
              "      <td>0</td>\n",
              "      <td>0</td>\n",
              "      <td>0</td>\n",
              "      <td>3</td>\n",
              "      <td>3</td>\n",
              "      <td>2</td>\n",
              "      <td>4</td>\n",
              "    </tr>\n",
              "    <tr>\n",
              "      <th>Canada</th>\n",
              "      <td>3</td>\n",
              "      <td>3</td>\n",
              "      <td>3</td>\n",
              "      <td>3</td>\n",
              "      <td>0</td>\n",
              "      <td>3</td>\n",
              "      <td>3</td>\n",
              "      <td>0</td>\n",
              "      <td>3</td>\n",
              "      <td>3</td>\n",
              "      <td>2</td>\n",
              "      <td>3</td>\n",
              "    </tr>\n",
              "    <tr>\n",
              "      <th>Sweden</th>\n",
              "      <td>3</td>\n",
              "      <td>0</td>\n",
              "      <td>0</td>\n",
              "      <td>0</td>\n",
              "      <td>0</td>\n",
              "      <td>0</td>\n",
              "      <td>0</td>\n",
              "      <td>0</td>\n",
              "      <td>0</td>\n",
              "      <td>2</td>\n",
              "      <td>2</td>\n",
              "      <td>3</td>\n",
              "    </tr>\n",
              "    <tr>\n",
              "      <th>United States</th>\n",
              "      <td>3</td>\n",
              "      <td>3</td>\n",
              "      <td>3</td>\n",
              "      <td>3</td>\n",
              "      <td>0</td>\n",
              "      <td>3</td>\n",
              "      <td>3</td>\n",
              "      <td>3</td>\n",
              "      <td>3</td>\n",
              "      <td>3</td>\n",
              "      <td>3</td>\n",
              "      <td>3</td>\n",
              "    </tr>\n",
              "  </tbody>\n",
              "</table>\n",
              "</div>"
            ],
            "text/plain": [
              "Year            2000  2001  2002  2003  2004  ...  2007  2008  2009  2010  Max\n",
              "CountryName                                   ...                             \n",
              "Japan             14    12    14    14    13  ...     0    13    13     0   14\n",
              "Germany            9     9     8     0     0  ...     0     8     8     8    9\n",
              "France             8     8     7     7     7  ...     0     7     6     6    8\n",
              "Finland            7     0     0     7     0  ...     6     6     6     5    7\n",
              "Belgium            7     6     6     0     0  ...     5     0     6     6    7\n",
              "Switzerland        0     0     6     0     5  ...     0     5     5     4    6\n",
              "Netherlands        4     4     0     5     0  ...     4     4     4     0    5\n",
              "Denmark            4     4     4     4     3  ...     3     3     3     3    4\n",
              "Norway             3     0     0     0     0  ...     3     3     3     3    4\n",
              "United Kingdom     4     4     4     4     3  ...     0     3     3     2    4\n",
              "Canada             3     3     3     3     0  ...     0     3     3     2    3\n",
              "Sweden             3     0     0     0     0  ...     0     0     2     2    3\n",
              "United States      3     3     3     3     0  ...     3     3     3     3    3\n",
              "\n",
              "[13 rows x 12 columns]"
            ]
          },
          "metadata": {
            "tags": []
          },
          "execution_count": 66
        }
      ]
    },
    {
      "cell_type": "code",
      "metadata": {
        "id": "Ea-eb6wK3M-V",
        "colab_type": "code",
        "colab": {}
      },
      "source": [
        "df_indicators_hb_plt_to.to_csv(r\"/content/drive/My Drive/Colab Notebooks/Data/PROJ/2019_09_28_pd_np_mpl/Data/df_indicators_hb_plt_to.csv\", sep = ',')"
      ],
      "execution_count": 0,
      "outputs": []
    },
    {
      "cell_type": "markdown",
      "metadata": {
        "id": "i9DU4SIR504t",
        "colab_type": "text"
      },
      "source": [
        "### There is a remarkable difference in the number of hospital beds provided by Japan compared to the other Countries.\n",
        "- This indicator remains constant during the interval 2000-2010\n",
        "\n",
        " "
      ]
    },
    {
      "cell_type": "markdown",
      "metadata": {
        "id": "zUqMnphX6IRu",
        "colab_type": "text"
      },
      "source": [
        "## Data Analysis on the Indicator 'Physicians (per 1,000 people)'"
      ]
    },
    {
      "cell_type": "code",
      "metadata": {
        "colab_type": "code",
        "id": "K-RGkVlV6hZz",
        "colab": {}
      },
      "source": [
        "df_indicators_ph = df_indicators_final.set_index('IndicatorName')"
      ],
      "execution_count": 0,
      "outputs": []
    },
    {
      "cell_type": "code",
      "metadata": {
        "colab_type": "code",
        "id": "PMBjyrly6hZ5",
        "colab": {}
      },
      "source": [
        "df_indicators_ph.drop(columns =['CountryCode','IndicatorCode'], inplace = True)"
      ],
      "execution_count": 0,
      "outputs": []
    },
    {
      "cell_type": "code",
      "metadata": {
        "colab_type": "code",
        "id": "z6U3l8WY6haA",
        "colab": {}
      },
      "source": [
        "df_indicators_ph['Year'] = df_indicators_ph['Year'].astype(int)"
      ],
      "execution_count": 0,
      "outputs": []
    },
    {
      "cell_type": "code",
      "metadata": {
        "colab_type": "code",
        "outputId": "5f97fc33-30a5-40f0-8514-08683a0a03e8",
        "id": "UCjPSaAY6haE",
        "colab": {
          "base_uri": "https://localhost:8080/",
          "height": 227
        }
      },
      "source": [
        "df_indicators_ph.head()"
      ],
      "execution_count": 70,
      "outputs": [
        {
          "output_type": "execute_result",
          "data": {
            "text/html": [
              "<div>\n",
              "<style scoped>\n",
              "    .dataframe tbody tr th:only-of-type {\n",
              "        vertical-align: middle;\n",
              "    }\n",
              "\n",
              "    .dataframe tbody tr th {\n",
              "        vertical-align: top;\n",
              "    }\n",
              "\n",
              "    .dataframe thead th {\n",
              "        text-align: right;\n",
              "    }\n",
              "</style>\n",
              "<table border=\"1\" class=\"dataframe\">\n",
              "  <thead>\n",
              "    <tr style=\"text-align: right;\">\n",
              "      <th></th>\n",
              "      <th>Year</th>\n",
              "      <th>CountryName</th>\n",
              "      <th>Value</th>\n",
              "    </tr>\n",
              "    <tr>\n",
              "      <th>IndicatorName</th>\n",
              "      <th></th>\n",
              "      <th></th>\n",
              "      <th></th>\n",
              "    </tr>\n",
              "  </thead>\n",
              "  <tbody>\n",
              "    <tr>\n",
              "      <th>Health expenditure per capita (current US$)</th>\n",
              "      <td>2000</td>\n",
              "      <td>Canada</td>\n",
              "      <td>2099.841406</td>\n",
              "    </tr>\n",
              "    <tr>\n",
              "      <th>Hospital beds (per 1,000 people)</th>\n",
              "      <td>2000</td>\n",
              "      <td>Canada</td>\n",
              "      <td>3.400000</td>\n",
              "    </tr>\n",
              "    <tr>\n",
              "      <th>Physicians (per 1,000 people)</th>\n",
              "      <td>2000</td>\n",
              "      <td>Canada</td>\n",
              "      <td>2.100000</td>\n",
              "    </tr>\n",
              "    <tr>\n",
              "      <th>Health expenditure per capita (current US$)</th>\n",
              "      <td>2000</td>\n",
              "      <td>France</td>\n",
              "      <td>2209.243825</td>\n",
              "    </tr>\n",
              "    <tr>\n",
              "      <th>Hospital beds (per 1,000 people)</th>\n",
              "      <td>2000</td>\n",
              "      <td>France</td>\n",
              "      <td>8.100000</td>\n",
              "    </tr>\n",
              "  </tbody>\n",
              "</table>\n",
              "</div>"
            ],
            "text/plain": [
              "                                             Year CountryName        Value\n",
              "IndicatorName                                                             \n",
              "Health expenditure per capita (current US$)  2000      Canada  2099.841406\n",
              "Hospital beds (per 1,000 people)             2000      Canada     3.400000\n",
              "Physicians (per 1,000 people)                2000      Canada     2.100000\n",
              "Health expenditure per capita (current US$)  2000      France  2209.243825\n",
              "Hospital beds (per 1,000 people)             2000      France     8.100000"
            ]
          },
          "metadata": {
            "tags": []
          },
          "execution_count": 70
        }
      ]
    },
    {
      "cell_type": "code",
      "metadata": {
        "colab_type": "code",
        "id": "d2BYcPuV6haJ",
        "colab": {}
      },
      "source": [
        "df_indicators_ph = df_indicators_ph.loc[ ['Physicians (per 1,000 people)'] , : ]"
      ],
      "execution_count": 0,
      "outputs": []
    },
    {
      "cell_type": "code",
      "metadata": {
        "colab_type": "code",
        "id": "x7wblnWM6haN",
        "colab": {}
      },
      "source": [
        "df_indicators_ph = df_indicators_ph.reset_index('IndicatorName')"
      ],
      "execution_count": 0,
      "outputs": []
    },
    {
      "cell_type": "code",
      "metadata": {
        "colab_type": "code",
        "id": "coOeGVr56haR",
        "colab": {}
      },
      "source": [
        "df_indicators_ph_plt = pd.pivot_table(df_indicators_ph, values ='Value', index =['Year'], \n",
        "                         columns = ['CountryName'])"
      ],
      "execution_count": 0,
      "outputs": []
    },
    {
      "cell_type": "code",
      "metadata": {
        "colab_type": "code",
        "id": "pTlvwH1p6haX",
        "colab": {}
      },
      "source": [
        "df_indicators_ph_plt.fillna(0, inplace = True) "
      ],
      "execution_count": 0,
      "outputs": []
    },
    {
      "cell_type": "code",
      "metadata": {
        "id": "hsftHLHYneyQ",
        "colab_type": "code",
        "colab": {
          "base_uri": "https://localhost:8080/",
          "height": 694
        },
        "outputId": "909f5904-7a43-49c9-ef46-7eb1dd8cd855"
      },
      "source": [
        "%%HTML\n",
        "<div class='tableauPlaceholder' id='viz1570491956124' style='position: relative'><noscript><a href='#'><img alt=' ' src='https:&#47;&#47;public.tableau.com&#47;static&#47;images&#47;df&#47;df_indicators_ph&#47;Dashboard2&#47;1_rss.png' style='border: none' /></a></noscript><object class='tableauViz'  style='display:none;'><param name='host_url' value='https%3A%2F%2Fpublic.tableau.com%2F' /> <param name='embed_code_version' value='3' /> <param name='site_root' value='' /><param name='name' value='df_indicators_ph&#47;Dashboard2' /><param name='tabs' value='no' /><param name='toolbar' value='yes' /><param name='static_image' value='https:&#47;&#47;public.tableau.com&#47;static&#47;images&#47;df&#47;df_indicators_ph&#47;Dashboard2&#47;1.png' /> <param name='animate_transition' value='yes' /><param name='display_static_image' value='yes' /><param name='display_spinner' value='yes' /><param name='display_overlay' value='yes' /><param name='display_count' value='yes' /><param name='filter' value='publish=yes' /></object></div>                <script type='text/javascript'>                    var divElement = document.getElementById('viz1570491956124');                    var vizElement = divElement.getElementsByTagName('object')[0];                    if ( divElement.offsetWidth > 800 ) { vizElement.style.width='800px';vizElement.style.height='677px';} else if ( divElement.offsetWidth > 500 ) { vizElement.style.width='800px';vizElement.style.height='677px';} else { vizElement.style.width='100%';vizElement.style.height='727px';}                     var scriptElement = document.createElement('script');                    scriptElement.src = 'https://public.tableau.com/javascripts/api/viz_v1.js';                    vizElement.parentNode.insertBefore(scriptElement, vizElement);                </script>"
      ],
      "execution_count": 135,
      "outputs": [
        {
          "output_type": "display_data",
          "data": {
            "text/html": [
              "<div class='tableauPlaceholder' id='viz1570491956124' style='position: relative'><noscript><a href='#'><img alt=' ' src='https:&#47;&#47;public.tableau.com&#47;static&#47;images&#47;df&#47;df_indicators_ph&#47;Dashboard2&#47;1_rss.png' style='border: none' /></a></noscript><object class='tableauViz'  style='display:none;'><param name='host_url' value='https%3A%2F%2Fpublic.tableau.com%2F' /> <param name='embed_code_version' value='3' /> <param name='site_root' value='' /><param name='name' value='df_indicators_ph&#47;Dashboard2' /><param name='tabs' value='no' /><param name='toolbar' value='yes' /><param name='static_image' value='https:&#47;&#47;public.tableau.com&#47;static&#47;images&#47;df&#47;df_indicators_ph&#47;Dashboard2&#47;1.png' /> <param name='animate_transition' value='yes' /><param name='display_static_image' value='yes' /><param name='display_spinner' value='yes' /><param name='display_overlay' value='yes' /><param name='display_count' value='yes' /><param name='filter' value='publish=yes' /></object></div>                <script type='text/javascript'>                    var divElement = document.getElementById('viz1570491956124');                    var vizElement = divElement.getElementsByTagName('object')[0];                    if ( divElement.offsetWidth > 800 ) { vizElement.style.width='800px';vizElement.style.height='677px';} else if ( divElement.offsetWidth > 500 ) { vizElement.style.width='800px';vizElement.style.height='677px';} else { vizElement.style.width='100%';vizElement.style.height='727px';}                     var scriptElement = document.createElement('script');                    scriptElement.src = 'https://public.tableau.com/javascripts/api/viz_v1.js';                    vizElement.parentNode.insertBefore(scriptElement, vizElement);                </script>"
            ],
            "text/plain": [
              "<IPython.core.display.HTML object>"
            ]
          },
          "metadata": {
            "tags": []
          }
        }
      ]
    },
    {
      "cell_type": "code",
      "metadata": {
        "colab_type": "code",
        "id": "nhzrU2B66hac",
        "colab": {}
      },
      "source": [
        "df_indicators_ph_plt = df_indicators_ph_plt.astype(int)"
      ],
      "execution_count": 0,
      "outputs": []
    },
    {
      "cell_type": "code",
      "metadata": {
        "colab_type": "code",
        "id": "N0m0U9EX6haf",
        "colab": {}
      },
      "source": [
        "df_indicators_ph_plt_to = pd.pivot_table(df_indicators_ph, values ='Value', index =['CountryName'], \n",
        "                         columns = ['Year'])"
      ],
      "execution_count": 0,
      "outputs": []
    },
    {
      "cell_type": "code",
      "metadata": {
        "colab_type": "code",
        "id": "wGVgUO0J6hai",
        "colab": {}
      },
      "source": [
        "df_indicators_ph_plt_to['Max'] = df_indicators_ph_plt_to.max(axis=1)\n",
        "df_indicators_ph_plt_to.sort_values('Max', axis = 0, ascending = False, \n",
        "                 inplace = True, na_position ='last')"
      ],
      "execution_count": 0,
      "outputs": []
    },
    {
      "cell_type": "code",
      "metadata": {
        "colab_type": "code",
        "id": "gdp9D8_A6han",
        "colab": {}
      },
      "source": [
        "df_indicators_ph_plt_to.fillna(0, inplace = True) "
      ],
      "execution_count": 0,
      "outputs": []
    },
    {
      "cell_type": "code",
      "metadata": {
        "colab_type": "code",
        "id": "0h3qNYDD6has",
        "colab": {}
      },
      "source": [
        "df_indicators_ph_plt_to = df_indicators_ph_plt_to.astype(int)"
      ],
      "execution_count": 0,
      "outputs": []
    },
    {
      "cell_type": "code",
      "metadata": {
        "colab_type": "code",
        "outputId": "0e018160-b22f-4eb8-87da-1e588afe9c31",
        "id": "vjIspIrZ6hav",
        "colab": {
          "base_uri": "https://localhost:8080/",
          "height": 467
        }
      },
      "source": [
        "df_indicators_ph_plt_to.head(13)"
      ],
      "execution_count": 81,
      "outputs": [
        {
          "output_type": "execute_result",
          "data": {
            "text/html": [
              "<div>\n",
              "<style scoped>\n",
              "    .dataframe tbody tr th:only-of-type {\n",
              "        vertical-align: middle;\n",
              "    }\n",
              "\n",
              "    .dataframe tbody tr th {\n",
              "        vertical-align: top;\n",
              "    }\n",
              "\n",
              "    .dataframe thead th {\n",
              "        text-align: right;\n",
              "    }\n",
              "</style>\n",
              "<table border=\"1\" class=\"dataframe\">\n",
              "  <thead>\n",
              "    <tr style=\"text-align: right;\">\n",
              "      <th>Year</th>\n",
              "      <th>2000</th>\n",
              "      <th>2001</th>\n",
              "      <th>2002</th>\n",
              "      <th>2003</th>\n",
              "      <th>2004</th>\n",
              "      <th>2005</th>\n",
              "      <th>2006</th>\n",
              "      <th>2007</th>\n",
              "      <th>2008</th>\n",
              "      <th>2009</th>\n",
              "      <th>2010</th>\n",
              "      <th>Max</th>\n",
              "    </tr>\n",
              "    <tr>\n",
              "      <th>CountryName</th>\n",
              "      <th></th>\n",
              "      <th></th>\n",
              "      <th></th>\n",
              "      <th></th>\n",
              "      <th></th>\n",
              "      <th></th>\n",
              "      <th></th>\n",
              "      <th></th>\n",
              "      <th></th>\n",
              "      <th></th>\n",
              "      <th></th>\n",
              "      <th></th>\n",
              "    </tr>\n",
              "  </thead>\n",
              "  <tbody>\n",
              "    <tr>\n",
              "      <th>Belgium</th>\n",
              "      <td>3</td>\n",
              "      <td>3</td>\n",
              "      <td>3</td>\n",
              "      <td>0</td>\n",
              "      <td>0</td>\n",
              "      <td>0</td>\n",
              "      <td>4</td>\n",
              "      <td>0</td>\n",
              "      <td>2</td>\n",
              "      <td>0</td>\n",
              "      <td>3</td>\n",
              "      <td>4</td>\n",
              "    </tr>\n",
              "    <tr>\n",
              "      <th>Norway</th>\n",
              "      <td>2</td>\n",
              "      <td>3</td>\n",
              "      <td>3</td>\n",
              "      <td>3</td>\n",
              "      <td>0</td>\n",
              "      <td>0</td>\n",
              "      <td>3</td>\n",
              "      <td>3</td>\n",
              "      <td>4</td>\n",
              "      <td>4</td>\n",
              "      <td>4</td>\n",
              "      <td>4</td>\n",
              "    </tr>\n",
              "    <tr>\n",
              "      <th>Switzerland</th>\n",
              "      <td>3</td>\n",
              "      <td>3</td>\n",
              "      <td>3</td>\n",
              "      <td>0</td>\n",
              "      <td>0</td>\n",
              "      <td>0</td>\n",
              "      <td>3</td>\n",
              "      <td>0</td>\n",
              "      <td>0</td>\n",
              "      <td>0</td>\n",
              "      <td>4</td>\n",
              "      <td>4</td>\n",
              "    </tr>\n",
              "    <tr>\n",
              "      <th>Netherlands</th>\n",
              "      <td>3</td>\n",
              "      <td>3</td>\n",
              "      <td>3</td>\n",
              "      <td>3</td>\n",
              "      <td>0</td>\n",
              "      <td>3</td>\n",
              "      <td>0</td>\n",
              "      <td>3</td>\n",
              "      <td>2</td>\n",
              "      <td>0</td>\n",
              "      <td>2</td>\n",
              "      <td>3</td>\n",
              "    </tr>\n",
              "    <tr>\n",
              "      <th>Sweden</th>\n",
              "      <td>3</td>\n",
              "      <td>3</td>\n",
              "      <td>3</td>\n",
              "      <td>0</td>\n",
              "      <td>3</td>\n",
              "      <td>0</td>\n",
              "      <td>3</td>\n",
              "      <td>3</td>\n",
              "      <td>3</td>\n",
              "      <td>3</td>\n",
              "      <td>3</td>\n",
              "      <td>3</td>\n",
              "    </tr>\n",
              "    <tr>\n",
              "      <th>France</th>\n",
              "      <td>3</td>\n",
              "      <td>3</td>\n",
              "      <td>3</td>\n",
              "      <td>3</td>\n",
              "      <td>3</td>\n",
              "      <td>0</td>\n",
              "      <td>3</td>\n",
              "      <td>3</td>\n",
              "      <td>3</td>\n",
              "      <td>0</td>\n",
              "      <td>3</td>\n",
              "      <td>3</td>\n",
              "    </tr>\n",
              "    <tr>\n",
              "      <th>Germany</th>\n",
              "      <td>3</td>\n",
              "      <td>3</td>\n",
              "      <td>3</td>\n",
              "      <td>3</td>\n",
              "      <td>0</td>\n",
              "      <td>0</td>\n",
              "      <td>3</td>\n",
              "      <td>3</td>\n",
              "      <td>3</td>\n",
              "      <td>0</td>\n",
              "      <td>3</td>\n",
              "      <td>3</td>\n",
              "    </tr>\n",
              "    <tr>\n",
              "      <th>Denmark</th>\n",
              "      <td>2</td>\n",
              "      <td>2</td>\n",
              "      <td>2</td>\n",
              "      <td>0</td>\n",
              "      <td>3</td>\n",
              "      <td>0</td>\n",
              "      <td>3</td>\n",
              "      <td>3</td>\n",
              "      <td>0</td>\n",
              "      <td>3</td>\n",
              "      <td>3</td>\n",
              "      <td>3</td>\n",
              "    </tr>\n",
              "    <tr>\n",
              "      <th>Finland</th>\n",
              "      <td>2</td>\n",
              "      <td>2</td>\n",
              "      <td>2</td>\n",
              "      <td>2</td>\n",
              "      <td>0</td>\n",
              "      <td>0</td>\n",
              "      <td>3</td>\n",
              "      <td>3</td>\n",
              "      <td>2</td>\n",
              "      <td>2</td>\n",
              "      <td>2</td>\n",
              "      <td>3</td>\n",
              "    </tr>\n",
              "    <tr>\n",
              "      <th>United Kingdom</th>\n",
              "      <td>1</td>\n",
              "      <td>2</td>\n",
              "      <td>2</td>\n",
              "      <td>2</td>\n",
              "      <td>0</td>\n",
              "      <td>0</td>\n",
              "      <td>0</td>\n",
              "      <td>0</td>\n",
              "      <td>0</td>\n",
              "      <td>0</td>\n",
              "      <td>2</td>\n",
              "      <td>2</td>\n",
              "    </tr>\n",
              "    <tr>\n",
              "      <th>United States</th>\n",
              "      <td>2</td>\n",
              "      <td>2</td>\n",
              "      <td>2</td>\n",
              "      <td>0</td>\n",
              "      <td>2</td>\n",
              "      <td>0</td>\n",
              "      <td>0</td>\n",
              "      <td>0</td>\n",
              "      <td>0</td>\n",
              "      <td>2</td>\n",
              "      <td>2</td>\n",
              "      <td>2</td>\n",
              "    </tr>\n",
              "    <tr>\n",
              "      <th>Japan</th>\n",
              "      <td>1</td>\n",
              "      <td>0</td>\n",
              "      <td>2</td>\n",
              "      <td>0</td>\n",
              "      <td>2</td>\n",
              "      <td>0</td>\n",
              "      <td>2</td>\n",
              "      <td>0</td>\n",
              "      <td>2</td>\n",
              "      <td>0</td>\n",
              "      <td>2</td>\n",
              "      <td>2</td>\n",
              "    </tr>\n",
              "    <tr>\n",
              "      <th>Canada</th>\n",
              "      <td>2</td>\n",
              "      <td>2</td>\n",
              "      <td>2</td>\n",
              "      <td>2</td>\n",
              "      <td>0</td>\n",
              "      <td>0</td>\n",
              "      <td>1</td>\n",
              "      <td>0</td>\n",
              "      <td>1</td>\n",
              "      <td>0</td>\n",
              "      <td>2</td>\n",
              "      <td>2</td>\n",
              "    </tr>\n",
              "  </tbody>\n",
              "</table>\n",
              "</div>"
            ],
            "text/plain": [
              "Year            2000  2001  2002  2003  2004  ...  2007  2008  2009  2010  Max\n",
              "CountryName                                   ...                             \n",
              "Belgium            3     3     3     0     0  ...     0     2     0     3    4\n",
              "Norway             2     3     3     3     0  ...     3     4     4     4    4\n",
              "Switzerland        3     3     3     0     0  ...     0     0     0     4    4\n",
              "Netherlands        3     3     3     3     0  ...     3     2     0     2    3\n",
              "Sweden             3     3     3     0     3  ...     3     3     3     3    3\n",
              "France             3     3     3     3     3  ...     3     3     0     3    3\n",
              "Germany            3     3     3     3     0  ...     3     3     0     3    3\n",
              "Denmark            2     2     2     0     3  ...     3     0     3     3    3\n",
              "Finland            2     2     2     2     0  ...     3     2     2     2    3\n",
              "United Kingdom     1     2     2     2     0  ...     0     0     0     2    2\n",
              "United States      2     2     2     0     2  ...     0     0     2     2    2\n",
              "Japan              1     0     2     0     2  ...     0     2     0     2    2\n",
              "Canada             2     2     2     2     0  ...     0     1     0     2    2\n",
              "\n",
              "[13 rows x 12 columns]"
            ]
          },
          "metadata": {
            "tags": []
          },
          "execution_count": 81
        }
      ]
    },
    {
      "cell_type": "markdown",
      "metadata": {
        "colab_type": "text",
        "id": "JYhyRFJ96ha0"
      },
      "source": [
        "### In this case the number of physicians provided by Belgium, Norway and Switzerland excels compared to the other countries included in the study.\n",
        "-  Also, in this case the indicator remains constant in the interval 2000-2010\n",
        "\n",
        "\n",
        " "
      ]
    },
    {
      "cell_type": "code",
      "metadata": {
        "id": "KfhhJtGF3qk_",
        "colab_type": "code",
        "colab": {}
      },
      "source": [
        "df_indicators_ph_plt_to.to_csv(r\"/content/drive/My Drive/Colab Notebooks/Data/PROJ/2019_09_28_pd_np_mpl/Data/df_indicators_ph_plt_to.csv\", sep = ',')"
      ],
      "execution_count": 0,
      "outputs": []
    },
    {
      "cell_type": "markdown",
      "metadata": {
        "id": "73XNJyDbBSIz",
        "colab_type": "text"
      },
      "source": [
        "## Correlation between \"Health expenditure per capita\" and \"Hospital beds (per 1,000 people)\""
      ]
    },
    {
      "cell_type": "code",
      "metadata": {
        "id": "7CrJlkP2DqcK",
        "colab_type": "code",
        "colab": {}
      },
      "source": [
        "# Extract total from the health expenditure dataframe\n",
        "df_indicators_he.corr = df_indicators_he_plt_co.copy()"
      ],
      "execution_count": 0,
      "outputs": []
    },
    {
      "cell_type": "code",
      "metadata": {
        "id": "4Ghk_0tWEp8B",
        "colab_type": "code",
        "outputId": "7f270999-a835-4ed3-b2e5-e0adf89a84e0",
        "colab": {
          "base_uri": "https://localhost:8080/",
          "height": 467
        }
      },
      "source": [
        "df_indicators_he.corr.head(13)"
      ],
      "execution_count": 84,
      "outputs": [
        {
          "output_type": "execute_result",
          "data": {
            "text/html": [
              "<div>\n",
              "<style scoped>\n",
              "    .dataframe tbody tr th:only-of-type {\n",
              "        vertical-align: middle;\n",
              "    }\n",
              "\n",
              "    .dataframe tbody tr th {\n",
              "        vertical-align: top;\n",
              "    }\n",
              "\n",
              "    .dataframe thead th {\n",
              "        text-align: right;\n",
              "    }\n",
              "</style>\n",
              "<table border=\"1\" class=\"dataframe\">\n",
              "  <thead>\n",
              "    <tr style=\"text-align: right;\">\n",
              "      <th>Year</th>\n",
              "      <th>Total</th>\n",
              "    </tr>\n",
              "    <tr>\n",
              "      <th>CountryName</th>\n",
              "      <th></th>\n",
              "    </tr>\n",
              "  </thead>\n",
              "  <tbody>\n",
              "    <tr>\n",
              "      <th>Belgium</th>\n",
              "      <td>37383</td>\n",
              "    </tr>\n",
              "    <tr>\n",
              "      <th>Canada</th>\n",
              "      <td>38572</td>\n",
              "    </tr>\n",
              "    <tr>\n",
              "      <th>Denmark</th>\n",
              "      <td>51011</td>\n",
              "    </tr>\n",
              "    <tr>\n",
              "      <th>Finland</th>\n",
              "      <td>33627</td>\n",
              "    </tr>\n",
              "    <tr>\n",
              "      <th>France</th>\n",
              "      <td>39748</td>\n",
              "    </tr>\n",
              "    <tr>\n",
              "      <th>Germany</th>\n",
              "      <td>39838</td>\n",
              "    </tr>\n",
              "    <tr>\n",
              "      <th>Japan</th>\n",
              "      <td>33107</td>\n",
              "    </tr>\n",
              "    <tr>\n",
              "      <th>Netherlands</th>\n",
              "      <td>44544</td>\n",
              "    </tr>\n",
              "    <tr>\n",
              "      <th>Norway</th>\n",
              "      <td>64642</td>\n",
              "    </tr>\n",
              "    <tr>\n",
              "      <th>Sweden</th>\n",
              "      <td>40226</td>\n",
              "    </tr>\n",
              "    <tr>\n",
              "      <th>Switzerland</th>\n",
              "      <td>61533</td>\n",
              "    </tr>\n",
              "    <tr>\n",
              "      <th>United Kingdom</th>\n",
              "      <td>32213</td>\n",
              "    </tr>\n",
              "    <tr>\n",
              "      <th>United States</th>\n",
              "      <td>73667</td>\n",
              "    </tr>\n",
              "  </tbody>\n",
              "</table>\n",
              "</div>"
            ],
            "text/plain": [
              "Year            Total\n",
              "CountryName          \n",
              "Belgium         37383\n",
              "Canada          38572\n",
              "Denmark         51011\n",
              "Finland         33627\n",
              "France          39748\n",
              "Germany         39838\n",
              "Japan           33107\n",
              "Netherlands     44544\n",
              "Norway          64642\n",
              "Sweden          40226\n",
              "Switzerland     61533\n",
              "United Kingdom  32213\n",
              "United States   73667"
            ]
          },
          "metadata": {
            "tags": []
          },
          "execution_count": 84
        }
      ]
    },
    {
      "cell_type": "code",
      "metadata": {
        "id": "WmcSbLGPF6Fr",
        "colab_type": "code",
        "colab": {}
      },
      "source": [
        "# Extract Max from the hospital beds dataframe\n",
        "df_indicators_hb.corr = df_indicators_hb_plt_to.copy()"
      ],
      "execution_count": 0,
      "outputs": []
    },
    {
      "cell_type": "code",
      "metadata": {
        "id": "nv-E43wLDCr9",
        "colab_type": "code",
        "colab": {}
      },
      "source": [
        "df_indicators_hb.corr = pd.pivot_table(df_indicators_hb.corr, values ='Max', index =['CountryName'])"
      ],
      "execution_count": 0,
      "outputs": []
    },
    {
      "cell_type": "code",
      "metadata": {
        "id": "S_I3OD5fJEMF",
        "colab_type": "code",
        "outputId": "0964674e-9122-4e7f-cf96-1a1d1eef015a",
        "colab": {
          "base_uri": "https://localhost:8080/",
          "height": 467
        }
      },
      "source": [
        "df_indicators_hb.corr.head(13)"
      ],
      "execution_count": 87,
      "outputs": [
        {
          "output_type": "execute_result",
          "data": {
            "text/html": [
              "<div>\n",
              "<style scoped>\n",
              "    .dataframe tbody tr th:only-of-type {\n",
              "        vertical-align: middle;\n",
              "    }\n",
              "\n",
              "    .dataframe tbody tr th {\n",
              "        vertical-align: top;\n",
              "    }\n",
              "\n",
              "    .dataframe thead th {\n",
              "        text-align: right;\n",
              "    }\n",
              "</style>\n",
              "<table border=\"1\" class=\"dataframe\">\n",
              "  <thead>\n",
              "    <tr style=\"text-align: right;\">\n",
              "      <th>Year</th>\n",
              "      <th>Max</th>\n",
              "    </tr>\n",
              "    <tr>\n",
              "      <th>CountryName</th>\n",
              "      <th></th>\n",
              "    </tr>\n",
              "  </thead>\n",
              "  <tbody>\n",
              "    <tr>\n",
              "      <th>Belgium</th>\n",
              "      <td>7</td>\n",
              "    </tr>\n",
              "    <tr>\n",
              "      <th>Canada</th>\n",
              "      <td>3</td>\n",
              "    </tr>\n",
              "    <tr>\n",
              "      <th>Denmark</th>\n",
              "      <td>4</td>\n",
              "    </tr>\n",
              "    <tr>\n",
              "      <th>Finland</th>\n",
              "      <td>7</td>\n",
              "    </tr>\n",
              "    <tr>\n",
              "      <th>France</th>\n",
              "      <td>8</td>\n",
              "    </tr>\n",
              "    <tr>\n",
              "      <th>Germany</th>\n",
              "      <td>9</td>\n",
              "    </tr>\n",
              "    <tr>\n",
              "      <th>Japan</th>\n",
              "      <td>14</td>\n",
              "    </tr>\n",
              "    <tr>\n",
              "      <th>Netherlands</th>\n",
              "      <td>5</td>\n",
              "    </tr>\n",
              "    <tr>\n",
              "      <th>Norway</th>\n",
              "      <td>4</td>\n",
              "    </tr>\n",
              "    <tr>\n",
              "      <th>Sweden</th>\n",
              "      <td>3</td>\n",
              "    </tr>\n",
              "    <tr>\n",
              "      <th>Switzerland</th>\n",
              "      <td>6</td>\n",
              "    </tr>\n",
              "    <tr>\n",
              "      <th>United Kingdom</th>\n",
              "      <td>4</td>\n",
              "    </tr>\n",
              "    <tr>\n",
              "      <th>United States</th>\n",
              "      <td>3</td>\n",
              "    </tr>\n",
              "  </tbody>\n",
              "</table>\n",
              "</div>"
            ],
            "text/plain": [
              "Year            Max\n",
              "CountryName        \n",
              "Belgium           7\n",
              "Canada            3\n",
              "Denmark           4\n",
              "Finland           7\n",
              "France            8\n",
              "Germany           9\n",
              "Japan            14\n",
              "Netherlands       5\n",
              "Norway            4\n",
              "Sweden            3\n",
              "Switzerland       6\n",
              "United Kingdom    4\n",
              "United States     3"
            ]
          },
          "metadata": {
            "tags": []
          },
          "execution_count": 87
        }
      ]
    },
    {
      "cell_type": "code",
      "metadata": {
        "id": "hV15NCN-JIe8",
        "colab_type": "code",
        "colab": {}
      },
      "source": [
        "# Concatenate the two dataframes selected\n",
        "df_health_bed = pd.concat([df_indicators_he.corr, df_indicators_hb.corr], axis =1)"
      ],
      "execution_count": 0,
      "outputs": []
    },
    {
      "cell_type": "code",
      "metadata": {
        "id": "OS13WjcHKC_o",
        "colab_type": "code",
        "outputId": "07c92830-0eb4-4d7f-83f1-485ac0bd2b2f",
        "colab": {
          "base_uri": "https://localhost:8080/",
          "height": 467
        }
      },
      "source": [
        "df_health_bed.head(26)"
      ],
      "execution_count": 89,
      "outputs": [
        {
          "output_type": "execute_result",
          "data": {
            "text/html": [
              "<div>\n",
              "<style scoped>\n",
              "    .dataframe tbody tr th:only-of-type {\n",
              "        vertical-align: middle;\n",
              "    }\n",
              "\n",
              "    .dataframe tbody tr th {\n",
              "        vertical-align: top;\n",
              "    }\n",
              "\n",
              "    .dataframe thead th {\n",
              "        text-align: right;\n",
              "    }\n",
              "</style>\n",
              "<table border=\"1\" class=\"dataframe\">\n",
              "  <thead>\n",
              "    <tr style=\"text-align: right;\">\n",
              "      <th>Year</th>\n",
              "      <th>Total</th>\n",
              "      <th>Max</th>\n",
              "    </tr>\n",
              "    <tr>\n",
              "      <th>CountryName</th>\n",
              "      <th></th>\n",
              "      <th></th>\n",
              "    </tr>\n",
              "  </thead>\n",
              "  <tbody>\n",
              "    <tr>\n",
              "      <th>Belgium</th>\n",
              "      <td>37383</td>\n",
              "      <td>7</td>\n",
              "    </tr>\n",
              "    <tr>\n",
              "      <th>Canada</th>\n",
              "      <td>38572</td>\n",
              "      <td>3</td>\n",
              "    </tr>\n",
              "    <tr>\n",
              "      <th>Denmark</th>\n",
              "      <td>51011</td>\n",
              "      <td>4</td>\n",
              "    </tr>\n",
              "    <tr>\n",
              "      <th>Finland</th>\n",
              "      <td>33627</td>\n",
              "      <td>7</td>\n",
              "    </tr>\n",
              "    <tr>\n",
              "      <th>France</th>\n",
              "      <td>39748</td>\n",
              "      <td>8</td>\n",
              "    </tr>\n",
              "    <tr>\n",
              "      <th>Germany</th>\n",
              "      <td>39838</td>\n",
              "      <td>9</td>\n",
              "    </tr>\n",
              "    <tr>\n",
              "      <th>Japan</th>\n",
              "      <td>33107</td>\n",
              "      <td>14</td>\n",
              "    </tr>\n",
              "    <tr>\n",
              "      <th>Netherlands</th>\n",
              "      <td>44544</td>\n",
              "      <td>5</td>\n",
              "    </tr>\n",
              "    <tr>\n",
              "      <th>Norway</th>\n",
              "      <td>64642</td>\n",
              "      <td>4</td>\n",
              "    </tr>\n",
              "    <tr>\n",
              "      <th>Sweden</th>\n",
              "      <td>40226</td>\n",
              "      <td>3</td>\n",
              "    </tr>\n",
              "    <tr>\n",
              "      <th>Switzerland</th>\n",
              "      <td>61533</td>\n",
              "      <td>6</td>\n",
              "    </tr>\n",
              "    <tr>\n",
              "      <th>United Kingdom</th>\n",
              "      <td>32213</td>\n",
              "      <td>4</td>\n",
              "    </tr>\n",
              "    <tr>\n",
              "      <th>United States</th>\n",
              "      <td>73667</td>\n",
              "      <td>3</td>\n",
              "    </tr>\n",
              "  </tbody>\n",
              "</table>\n",
              "</div>"
            ],
            "text/plain": [
              "Year            Total  Max\n",
              "CountryName               \n",
              "Belgium         37383    7\n",
              "Canada          38572    3\n",
              "Denmark         51011    4\n",
              "Finland         33627    7\n",
              "France          39748    8\n",
              "Germany         39838    9\n",
              "Japan           33107   14\n",
              "Netherlands     44544    5\n",
              "Norway          64642    4\n",
              "Sweden          40226    3\n",
              "Switzerland     61533    6\n",
              "United Kingdom  32213    4\n",
              "United States   73667    3"
            ]
          },
          "metadata": {
            "tags": []
          },
          "execution_count": 89
        }
      ]
    },
    {
      "cell_type": "code",
      "metadata": {
        "id": "ZoYQsy-4sNcR",
        "colab_type": "code",
        "colab": {
          "base_uri": "https://localhost:8080/",
          "height": 404
        },
        "outputId": "fdb68e52-bab0-4dce-8ce6-0e9b12d0e819"
      },
      "source": [
        "plt.figure(figsize=(12,6))\n",
        "x = df_indicators_he_plt_co\n",
        "y = df_indicators_hb_plt_to\n",
        "z = df_indicators_hb_plt_to\n",
        "z=z*z\n",
        "plt.grid(linestyle='-', linewidth='0.2', color='Gainsboro')\n",
        "plt.scatter(x, y, s=z*4, c=x, cmap=\"Blues\", alpha=2, edgecolors=\"grey\", linewidth=1)\n",
        "plt.xlabel(\"US$\")\n",
        "plt.ylabel(\"Number of Hospital Beds\")\n",
        "plt.title('Health Expenditure per Capita vs. Hospital Beds (per 1,000 people)')\n",
        " \n",
        "plt.show()\n"
      ],
      "execution_count": 181,
      "outputs": [
        {
          "output_type": "display_data",
          "data": {
            "image/png": "[encoded data removed]",
            "text/plain": [
              "<Figure size 864x432 with 1 Axes>"
            ]
          },
          "metadata": {
            "tags": []
          }
        }
      ]
    },
    {
      "cell_type": "code",
      "metadata": {
        "id": "ly5s6s9nKq0Z",
        "colab_type": "code",
        "outputId": "a031b924-9a48-47a9-efa2-a7caa3964a21",
        "colab": {
          "base_uri": "https://localhost:8080/",
          "height": 278
        }
      },
      "source": [
        "%matplotlib inline\n",
        "import matplotlib.pyplot as plt\n",
        "\n",
        "fig, axis = plt.subplots()\n",
        "\n",
        "axis.yaxis.grid(True)\n",
        "axis.set_title('Health expenditure per capita vs. Hospital beds (per 1,000 people)',fontsize=10)\n",
        "\n",
        "X = df_indicators_he.corr['Total']\n",
        "Y = df_indicators_hb.corr['Max']\n",
        "\n",
        "axis.scatter(X, Y)\n",
        "plt.show()"
      ],
      "execution_count": 183,
      "outputs": [
        {
          "output_type": "display_data",
          "data": {
            "image/png": "[encoded data removed]",
            "text/plain": [
              "<Figure size 432x288 with 1 Axes>"
            ]
          },
          "metadata": {
            "tags": []
          }
        }
      ]
    },
    {
      "cell_type": "markdown",
      "metadata": {
        "id": "TZUFBed7MBkn",
        "colab_type": "text"
      },
      "source": [
        "### It seems that has no correlation between the two indicators. Let's calculate the correlation matrix:"
      ]
    },
    {
      "cell_type": "code",
      "metadata": {
        "id": "ue2Xv2U-L9vT",
        "colab_type": "code",
        "outputId": "8ae1f87e-34c0-4ea8-c8e1-34f6f535854e",
        "colab": {
          "base_uri": "https://localhost:8080/",
          "height": 50
        }
      },
      "source": [
        "np.corrcoef(df_indicators_he.corr['Total'],df_indicators_hb.corr['Max'])"
      ],
      "execution_count": 120,
      "outputs": [
        {
          "output_type": "execute_result",
          "data": {
            "text/plain": [
              "array([[ 1.        , -0.43237008],\n",
              "       [-0.43237008,  1.        ]])"
            ]
          },
          "metadata": {
            "tags": []
          },
          "execution_count": 120
        }
      ]
    },
    {
      "cell_type": "markdown",
      "metadata": {
        "id": "OhbJPAYYNT_d",
        "colab_type": "text"
      },
      "source": [
        "### The correlation between 'Health expenditure per capita' and 'Hospital beds' is weak: 0.43\n",
        "- Correlations between 0.45 and 0.75 are moderate, and those below 0.45 are considered weak."
      ]
    },
    {
      "cell_type": "code",
      "metadata": {
        "id": "U9K3wY09PnYe",
        "colab_type": "code",
        "colab": {}
      },
      "source": [
        "########################################################################################################################################################################"
      ],
      "execution_count": 0,
      "outputs": []
    }
  ]
}